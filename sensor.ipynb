{
 "cells": [
  {
   "cell_type": "code",
   "execution_count": 1,
   "metadata": {},
   "outputs": [],
   "source": [
    "import json\n",
    "import pandas as pd\n",
    "import numpy as np\n",
    "import matplotlib.pyplot as plt"
   ]
  },
  {
   "cell_type": "markdown",
   "metadata": {},
   "source": [
    "## Loading data"
   ]
  },
  {
   "cell_type": "code",
   "execution_count": 13,
   "metadata": {},
   "outputs": [],
   "source": [
    "from pandas.io.json import json_normalize"
   ]
  },
  {
   "cell_type": "code",
   "execution_count": 10,
   "metadata": {},
   "outputs": [],
   "source": [
    "#read in data\n",
    "with open('sensorswww_data.txt') as f:\n",
    "    ftext=f.readlines()"
   ]
  },
  {
   "cell_type": "code",
   "execution_count": null,
   "metadata": {},
   "outputs": [],
   "source": [
    "# now ftext is list of dictionaries"
   ]
  },
  {
   "cell_type": "code",
   "execution_count": 55,
   "metadata": {},
   "outputs": [
    {
     "data": {
      "text/plain": [
       "'{\"distinct_id\":\"595466e9a8e733434ce08de16e927d985e0b5d48\",\"lib\":{\"$lib\":\"js\",\"$lib_method\":\"code\",\"$lib_version\":\"1.6.20\"},\"properties\":{\"$os\":\"windows\",\"$model\":\"pc\",\"$os_version\":\"6.1\",\"$screen_height\":800,\"$screen_width\":1280,\"$lib\":\"js\",\"$lib_version\":\"1.6.20\",\"$browser\":\"chrome\",\"$browser_version\":\"56\",\"$latest_referrer\":\"\",\"$latest_referrer_host\":\"\",\"$latest_utm_source\":\"baidu\",\"$latest_utm_medium\":\"cpc\",\"$latest_utm_campaign\":\"通用词\",\"$latest_utm_content\":\"通用-用户画像\",\"$latest_utm_term\":\"用户画像\",\"_latest_ch\":\"demo\",\"_session_referrer\":\"https://www.baidu.com/baidu.php\",\"_session_referrer_host\":\"www.baidu.com\",\"session_page_url\":\"https://www.sensorsdata.cn/?utm_source=baidu&utm_medium=cpc&utm_term=%E7%94%A8%E6%88%B7%E7%94%BB%E5%83%8F&utm_content=%E9%80%9A%E7%94%A8%2D%E7%94%A8%E6%88%B7%E7%94%BB%E5%83%8F&utm_campaign=%E9%80%9A%E7%94%A8%E8%AF%8D\",\"pageUrl\":\"https://sensorsdata.cn/?ch=demo\",\"pageStayTime\":5.692,\"pagePosition\":2,\"$is_first_day\":true,\"$is_first_time\":false,\"$ip\":\"219.135.131.99\"},\"type\":\"track\",\"event\":\"index_leave\",\"_nocache\":\"0654392402996\",\"time\":1488791047953}\\n'"
      ]
     },
     "execution_count": 55,
     "metadata": {},
     "output_type": "execute_result"
    }
   ],
   "source": [
    "ftext[0]"
   ]
  },
  {
   "cell_type": "code",
   "execution_count": null,
   "metadata": {},
   "outputs": [],
   "source": [
    "#use json.loads to convert to json/dictionaries"
   ]
  },
  {
   "cell_type": "code",
   "execution_count": null,
   "metadata": {},
   "outputs": [],
   "source": [
    "#now transform every item into json and save them in one big list"
   ]
  },
  {
   "cell_type": "code",
   "execution_count": 11,
   "metadata": {},
   "outputs": [],
   "source": [
    "alist=[]\n",
    "for i in range(len(ftext)):\n",
    "    alist.append(json.loads(ftext[i]))\n",
    "    "
   ]
  },
  {
   "cell_type": "code",
   "execution_count": null,
   "metadata": {},
   "outputs": [],
   "source": [
    "# alist is a list of dictionaries with every item, but they are nested dictionaries too in the properties"
   ]
  },
  {
   "cell_type": "code",
   "execution_count": 15,
   "metadata": {},
   "outputs": [],
   "source": [
    "import copy\n",
    "new_list=copy.deepcopy(alist)"
   ]
  },
  {
   "cell_type": "code",
   "execution_count": null,
   "metadata": {},
   "outputs": [],
   "source": [
    "#now i want to convert everything to dataframe\n",
    "# a lot of important info are in properties which is a dictionary of dictionaries"
   ]
  },
  {
   "cell_type": "code",
   "execution_count": 186,
   "metadata": {},
   "outputs": [],
   "source": [
    "\"\"\"\n",
    "prop_dic=new_list[0].pop('properties')    #store properties in a separate dictionary\n",
    "new_list[0].pop('lib')                     # exclude the lib column\n",
    "prop_df=pd.DataFrame([prop_dic])\n",
    "df=pd.DataFrame([new_list[0]])\n",
    "\"\"\""
   ]
  },
  {
   "cell_type": "code",
   "execution_count": null,
   "metadata": {},
   "outputs": [],
   "source": [
    "#json normalize is a great tool, can transform nested dictionaries flatten and into datafrmae"
   ]
  },
  {
   "cell_type": "code",
   "execution_count": 16,
   "metadata": {},
   "outputs": [],
   "source": [
    "df=json_normalize(new_list)"
   ]
  },
  {
   "cell_type": "code",
   "execution_count": 18,
   "metadata": {},
   "outputs": [],
   "source": [
    "\"\"\"\n",
    "import pickle\n",
    "\n",
    "filename='df.pkl'\n",
    "pickle.dump(df,open(filename,'wb'))\n",
    "\"\"\""
   ]
  },
  {
   "cell_type": "code",
   "execution_count": 17,
   "metadata": {},
   "outputs": [
    {
     "data": {
      "text/plain": [
       "(75092, 70)"
      ]
     },
     "execution_count": 17,
     "metadata": {},
     "output_type": "execute_result"
    }
   ],
   "source": [
    "df.shape"
   ]
  },
  {
   "cell_type": "markdown",
   "metadata": {},
   "source": [
    "### Look at  data individually"
   ]
  },
  {
   "cell_type": "code",
   "execution_count": 198,
   "metadata": {},
   "outputs": [],
   "source": [
    "one_user=df[df['distinct_id']=='595466e9a8e733434ce08de16e927d985e0b5d48']"
   ]
  },
  {
   "cell_type": "code",
   "execution_count": 46,
   "metadata": {},
   "outputs": [],
   "source": [
    "sec_user=df[df['distinct_id']=='9939d3e087bca29c42334d96dccd25ca0e06652a']"
   ]
  },
  {
   "cell_type": "code",
   "execution_count": 33,
   "metadata": {},
   "outputs": [
    {
     "data": {
      "text/plain": [
       "(2, 70)"
      ]
     },
     "execution_count": 33,
     "metadata": {},
     "output_type": "execute_result"
    }
   ],
   "source": [
    "one_user.shape"
   ]
  },
  {
   "cell_type": "code",
   "execution_count": 47,
   "metadata": {},
   "outputs": [
    {
     "data": {
      "text/plain": [
       "(22, 70)"
      ]
     },
     "execution_count": 47,
     "metadata": {},
     "output_type": "execute_result"
    }
   ],
   "source": [
    "sec_user.shape"
   ]
  },
  {
   "cell_type": "code",
   "execution_count": 41,
   "metadata": {},
   "outputs": [
    {
     "name": "stdout",
     "output_type": "stream",
     "text": [
      "                                                                           0654392402996\n",
      "_nocache                                        595466e9a8e733434ce08de16e927d985e0b5d48\n",
      "distinct_id                                                                  index_leave\n",
      "event                                                                                NaN\n",
      "jssdk_error                                                                           js\n",
      "lib.$lib                                                                            code\n",
      "lib.$lib_method                                                                   1.6.20\n",
      "lib.$lib_version                                                                  chrome\n",
      "properties.$browser                                                                   56\n",
      "properties.$browser_version                                                          NaN\n",
      "properties.$first_browser_language                                                   NaN\n",
      "properties.$first_referrer                                                           NaN\n",
      "properties.$first_referrer_host                                                      NaN\n",
      "properties.$first_visit_time                                              219.135.131.99\n",
      "properties.$ip                                                                      True\n",
      "properties.$is_first_day                                                           False\n",
      "properties.$is_first_time                                                               \n",
      "properties.$latest_referrer                                                             \n",
      "properties.$latest_referrer_host                                                     通用词\n",
      "properties.$latest_utm_campaign                                                  通用-用户画像\n",
      "properties.$latest_utm_content                                                       cpc\n",
      "properties.$latest_utm_medium                                                      baidu\n",
      "properties.$latest_utm_source                                                       用户画像\n",
      "properties.$latest_utm_term                                                           js\n",
      "properties.$lib                                                                   1.6.20\n",
      "properties.$lib_version                                                               pc\n",
      "properties.$model                                                                windows\n",
      "properties.$os                                                                       6.1\n",
      "properties.$os_version                                                               NaN\n",
      "properties.$referrer                                                                 NaN\n",
      "properties.$referrer_host                                                            800\n",
      "properties.$screen_height                                                           1280\n",
      "properties.$screen_width                                                             NaN\n",
      "properties.$title                                                                    NaN\n",
      "properties.$url                                                                      NaN\n",
      "properties.$url_path                                                                 NaN\n",
      "properties.$utm_campaign                                                             NaN\n",
      "properties.$utm_content                                                              NaN\n",
      "properties.$utm_medium                                                               NaN\n",
      "properties.$utm_source                                                               NaN\n",
      "properties.$utm_term                                                                demo\n",
      "properties._latest_ch                                                                NaN\n",
      "properties._session_from_url                             https://www.baidu.com/baidu.php\n",
      "properties._session_referrer                                                         NaN\n",
      "properties._session_referrer_domain                                        www.baidu.com\n",
      "properties._session_referrer_host                                                    NaN\n",
      "properties.ch                                                                        NaN\n",
      "properties.company                                                                   NaN\n",
      "properties.contact                                                                   NaN\n",
      "properties.email                                                                     NaN\n",
      "properties.from_url                                                                  NaN\n",
      "properties.info                                                                      NaN\n",
      "properties.isMsg                                                                     NaN\n",
      "properties.isSuccess                                                                 NaN\n",
      "properties.name                                                                      NaN\n",
      "properties.page                                                                        2\n",
      "properties.pagePosition                                                            5.692\n",
      "properties.pageStayTime                                  https://sensorsdata.cn/?ch=demo\n",
      "properties.pageUrl                                                                   NaN\n",
      "properties.project_name                                                              NaN\n",
      "properties.referrHostUrl                                                             NaN\n",
      "properties.referrerUrl                                                               NaN\n",
      "properties.requestBtn                                                                NaN\n",
      "properties.result                      https://www.sensorsdata.cn/?utm_source=baidu&u...\n",
      "properties.session_page_url                                                          NaN\n",
      "properties.siteUrl                                                                   NaN\n",
      "properties.site_url                                                                  NaN\n",
      "properties.url_path                                                                  NaN\n",
      "properties.verification_code                                               1488791047953\n",
      "time                                            595466e9a8e733434ce08de16e927d985e0b5d48\n",
      "distinct_id                                                                  index_leave\n",
      "event                                                                                NaN\n",
      "jssdk_error                                                                           js\n",
      "lib.$lib                                                                            code\n",
      "lib.$lib_method                                                                   1.6.20\n",
      "lib.$lib_version                                                                  chrome\n",
      "properties.$browser                                                                   56\n",
      "properties.$browser_version                                                          NaN\n",
      "properties.$first_browser_language                                                   NaN\n",
      "properties.$first_referrer                                                           NaN\n",
      "properties.$first_referrer_host                                                      NaN\n",
      "properties.$first_visit_time                                              219.135.131.99\n",
      "properties.$ip                                                                      True\n",
      "properties.$is_first_day                                                           False\n",
      "properties.$is_first_time                                                               \n",
      "properties.$latest_referrer                                                             \n",
      "properties.$latest_referrer_host                                                     通用词\n",
      "properties.$latest_utm_campaign                                                  通用-用户画像\n",
      "properties.$latest_utm_content                                                       cpc\n",
      "properties.$latest_utm_medium                                                      baidu\n",
      "properties.$latest_utm_source                                                       用户画像\n",
      "properties.$latest_utm_term                                                           js\n",
      "properties.$lib                                                                   1.6.20\n",
      "properties.$lib_version                                                               pc\n",
      "properties.$model                                                                windows\n",
      "properties.$os                                                                       6.1\n",
      "properties.$os_version                                                               NaN\n",
      "properties.$referrer                                                                 NaN\n",
      "properties.$referrer_host                                                            800\n",
      "properties.$screen_height                                                           1280\n",
      "properties.$screen_width                                                             NaN\n",
      "properties.$title                                                                    NaN\n",
      "properties.$url                                                                      NaN\n",
      "properties.$url_path                                                                 NaN\n",
      "properties.$utm_campaign                                                             NaN\n",
      "properties.$utm_content                                                              NaN\n",
      "properties.$utm_medium                                                               NaN\n",
      "properties.$utm_source                                                               NaN\n",
      "properties.$utm_term                                                                demo\n",
      "properties._latest_ch                                                                NaN\n",
      "properties._session_from_url                             https://www.baidu.com/baidu.php\n",
      "properties._session_referrer                                                         NaN\n",
      "properties._session_referrer_domain                                        www.baidu.com\n",
      "properties._session_referrer_host                                                    NaN\n",
      "properties.ch                                                                        NaN\n",
      "properties.company                                                                   NaN\n",
      "properties.contact                                                                   NaN\n",
      "properties.email                                                                     NaN\n",
      "properties.from_url                                                                  NaN\n",
      "properties.info                                                                      NaN\n",
      "properties.isMsg                                                                     NaN\n",
      "properties.isSuccess                                                                 NaN\n",
      "properties.name                                                                      NaN\n",
      "properties.page                                                                        2\n",
      "properties.pagePosition                                                            5.692\n",
      "properties.pageStayTime                                  https://sensorsdata.cn/?ch=demo\n",
      "properties.pageUrl                                                                   NaN\n",
      "properties.project_name                                                              NaN\n",
      "properties.referrHostUrl                                                             NaN\n",
      "properties.referrerUrl                                                               NaN\n",
      "properties.requestBtn                                                                NaN\n",
      "properties.result                      https://www.sensorsdata.cn/?utm_source=baidu&u...\n",
      "properties.session_page_url                                                          NaN\n",
      "properties.siteUrl                                                                   NaN\n",
      "properties.site_url                                                                  NaN\n",
      "properties.url_path                                                                  NaN\n",
      "properties.verification_code                                               1488791047953\n",
      "time                                                         ...                        \n",
      "type                                                                               track\n",
      "Name: 0, Length: 70, dtype: object\n"
     ]
    }
   ],
   "source": [
    "with pd.option_context('display.max_rows', -1, 'display.max_columns', 5):\n",
    "    print(one_user.iloc[0])"
   ]
  },
  {
   "cell_type": "code",
   "execution_count": 42,
   "metadata": {},
   "outputs": [
    {
     "name": "stdout",
     "output_type": "stream",
     "text": [
      "                                                                           4967393021929\n",
      "_nocache                                        595466e9a8e733434ce08de16e927d985e0b5d48\n",
      "distinct_id                                                                   demo_leave\n",
      "event                                                                                NaN\n",
      "jssdk_error                                                                           js\n",
      "lib.$lib                                                                            code\n",
      "lib.$lib_method                                                                   1.6.20\n",
      "lib.$lib_version                                                                  chrome\n",
      "properties.$browser                                                                   56\n",
      "properties.$browser_version                                                          NaN\n",
      "properties.$first_browser_language                                                   NaN\n",
      "properties.$first_referrer                                                           NaN\n",
      "properties.$first_referrer_host                                                      NaN\n",
      "properties.$first_visit_time                                              219.135.131.99\n",
      "properties.$ip                                                                      True\n",
      "properties.$is_first_day                                                           False\n",
      "properties.$is_first_time                                https://www.baidu.com/baidu.php\n",
      "properties.$latest_referrer                                                www.baidu.com\n",
      "properties.$latest_referrer_host                                                     通用词\n",
      "properties.$latest_utm_campaign                                                  通用-用户画像\n",
      "properties.$latest_utm_content                                                       cpc\n",
      "properties.$latest_utm_medium                                                      baidu\n",
      "properties.$latest_utm_source                                                       用户画像\n",
      "properties.$latest_utm_term                                                           js\n",
      "properties.$lib                                                                   1.6.20\n",
      "properties.$lib_version                                                               pc\n",
      "properties.$model                                                                windows\n",
      "properties.$os                                                                       6.1\n",
      "properties.$os_version                                                               NaN\n",
      "properties.$referrer                                                                 NaN\n",
      "properties.$referrer_host                                                            800\n",
      "properties.$screen_height                                                           1280\n",
      "properties.$screen_width                                                             NaN\n",
      "properties.$title                                                                    NaN\n",
      "properties.$url                                                                      NaN\n",
      "properties.$url_path                                                                 NaN\n",
      "properties.$utm_campaign                                                             NaN\n",
      "properties.$utm_content                                                              NaN\n",
      "properties.$utm_medium                                                               NaN\n",
      "properties.$utm_source                                                               NaN\n",
      "properties.$utm_term                                                                 NaN\n",
      "properties._latest_ch                                                                NaN\n",
      "properties._session_from_url                             https://www.baidu.com/baidu.php\n",
      "properties._session_referrer                                                         NaN\n",
      "properties._session_referrer_domain                                        www.baidu.com\n",
      "properties._session_referrer_host                                                    NaN\n",
      "properties.ch                                                                        NaN\n",
      "properties.company                                                                   NaN\n",
      "properties.contact                                                                   NaN\n",
      "properties.email                                                                     NaN\n",
      "properties.from_url                                                                  NaN\n",
      "properties.info                                                                      NaN\n",
      "properties.isMsg                                                                     NaN\n",
      "properties.isSuccess                                                                 NaN\n",
      "properties.name                                                                      NaN\n",
      "properties.page                                                                        1\n",
      "properties.pagePosition                                                           21.291\n",
      "properties.pageStayTime                             https://www.sensorsdata.cn/demo.html\n",
      "properties.pageUrl                                                                   NaN\n",
      "properties.project_name                                                              NaN\n",
      "properties.referrHostUrl                                                             NaN\n",
      "properties.referrerUrl                                                               NaN\n",
      "properties.requestBtn                                                                NaN\n",
      "properties.result                      https://www.sensorsdata.cn/?utm_source=baidu&u...\n",
      "properties.session_page_url                                                          NaN\n",
      "properties.siteUrl                                                                   NaN\n",
      "properties.site_url                                                                  NaN\n",
      "properties.url_path                                                                  NaN\n",
      "properties.verification_code                                               1488791057880\n",
      "time                                            595466e9a8e733434ce08de16e927d985e0b5d48\n",
      "distinct_id                                                                   demo_leave\n",
      "event                                                                                NaN\n",
      "jssdk_error                                                                           js\n",
      "lib.$lib                                                                            code\n",
      "lib.$lib_method                                                                   1.6.20\n",
      "lib.$lib_version                                                                  chrome\n",
      "properties.$browser                                                                   56\n",
      "properties.$browser_version                                                          NaN\n",
      "properties.$first_browser_language                                                   NaN\n",
      "properties.$first_referrer                                                           NaN\n",
      "properties.$first_referrer_host                                                      NaN\n",
      "properties.$first_visit_time                                              219.135.131.99\n",
      "properties.$ip                                                                      True\n",
      "properties.$is_first_day                                                           False\n",
      "properties.$is_first_time                                https://www.baidu.com/baidu.php\n",
      "properties.$latest_referrer                                                www.baidu.com\n",
      "properties.$latest_referrer_host                                                     通用词\n",
      "properties.$latest_utm_campaign                                                  通用-用户画像\n",
      "properties.$latest_utm_content                                                       cpc\n",
      "properties.$latest_utm_medium                                                      baidu\n",
      "properties.$latest_utm_source                                                       用户画像\n",
      "properties.$latest_utm_term                                                           js\n",
      "properties.$lib                                                                   1.6.20\n",
      "properties.$lib_version                                                               pc\n",
      "properties.$model                                                                windows\n",
      "properties.$os                                                                       6.1\n",
      "properties.$os_version                                                               NaN\n",
      "properties.$referrer                                                                 NaN\n",
      "properties.$referrer_host                                                            800\n",
      "properties.$screen_height                                                           1280\n",
      "properties.$screen_width                                                             NaN\n",
      "properties.$title                                                                    NaN\n",
      "properties.$url                                                                      NaN\n",
      "properties.$url_path                                                                 NaN\n",
      "properties.$utm_campaign                                                             NaN\n",
      "properties.$utm_content                                                              NaN\n",
      "properties.$utm_medium                                                               NaN\n",
      "properties.$utm_source                                                               NaN\n",
      "properties.$utm_term                                                                 NaN\n",
      "properties._latest_ch                                                                NaN\n",
      "properties._session_from_url                             https://www.baidu.com/baidu.php\n",
      "properties._session_referrer                                                         NaN\n",
      "properties._session_referrer_domain                                        www.baidu.com\n",
      "properties._session_referrer_host                                                    NaN\n",
      "properties.ch                                                                        NaN\n",
      "properties.company                                                                   NaN\n",
      "properties.contact                                                                   NaN\n",
      "properties.email                                                                     NaN\n",
      "properties.from_url                                                                  NaN\n",
      "properties.info                                                                      NaN\n",
      "properties.isMsg                                                                     NaN\n",
      "properties.isSuccess                                                                 NaN\n",
      "properties.name                                                                      NaN\n",
      "properties.page                                                                        1\n",
      "properties.pagePosition                                                           21.291\n",
      "properties.pageStayTime                             https://www.sensorsdata.cn/demo.html\n",
      "properties.pageUrl                                                                   NaN\n",
      "properties.project_name                                                              NaN\n",
      "properties.referrHostUrl                                                             NaN\n",
      "properties.referrerUrl                                                               NaN\n",
      "properties.requestBtn                                                                NaN\n",
      "properties.result                      https://www.sensorsdata.cn/?utm_source=baidu&u...\n",
      "properties.session_page_url                                                          NaN\n",
      "properties.siteUrl                                                                   NaN\n",
      "properties.site_url                                                                  NaN\n",
      "properties.url_path                                                                  NaN\n",
      "properties.verification_code                                               1488791057880\n",
      "time                                                         ...                        \n",
      "type                                                                               track\n",
      "Name: 5, Length: 70, dtype: object\n"
     ]
    }
   ],
   "source": [
    "with pd.option_context('display.max_rows', -1, 'display.max_columns', 5):\n",
    "    print(one_user.iloc[1])"
   ]
  },
  {
   "cell_type": "code",
   "execution_count": 51,
   "metadata": {},
   "outputs": [],
   "source": [
    "#order by time to look at squence of actions"
   ]
  },
  {
   "cell_type": "code",
   "execution_count": 53,
   "metadata": {},
   "outputs": [],
   "source": [
    "sec_sort=sec_user.sort_values(by=['time'])"
   ]
  },
  {
   "cell_type": "code",
   "execution_count": 55,
   "metadata": {
    "scrolled": false
   },
   "outputs": [
    {
     "data": {
      "text/plain": [
       "2                  $pageview\n",
       "3                   btnClick\n",
       "4                   btnClick\n",
       "8                   btnClick\n",
       "17      click_send_cellphone\n",
       "23     verify_cellphone_code\n",
       "25     verify_cellphone_code\n",
       "32               clickSubmit\n",
       "44                  btnClick\n",
       "45               index_leave\n",
       "46                 $pageview\n",
       "106                 btnClick\n",
       "107               demo_leave\n",
       "108                $pageview\n",
       "109                 btnClick\n",
       "110                $pageview\n",
       "114                 btnClick\n",
       "115                $pageview\n",
       "119                $pageview\n",
       "120              index_leave\n",
       "572               demo_leave\n",
       "1                        NaN\n",
       "Name: event, dtype: object"
      ]
     },
     "execution_count": 55,
     "metadata": {},
     "output_type": "execute_result"
    }
   ],
   "source": [
    "sec_sort['event']"
   ]
  },
  {
   "cell_type": "code",
   "execution_count": 127,
   "metadata": {},
   "outputs": [
    {
     "name": "stdout",
     "output_type": "stream",
     "text": [
      "                                                                  7825449252929\n",
      "_nocache                               9939d3e087bca29c42334d96dccd25ca0e06652a\n",
      "distinct_id                                                         clickSubmit\n",
      "event                                                                       NaN\n",
      "jssdk_error                                                                  js\n",
      "lib.$lib                                                                   code\n",
      "lib.$lib_method                                                          1.6.20\n",
      "lib.$lib_version                                                         chrome\n",
      "properties.$browser                                                          56\n",
      "properties.$browser_version                                                 NaN\n",
      "properties.$first_browser_language                                          NaN\n",
      "properties.$first_referrer                                                  NaN\n",
      "properties.$first_referrer_host                                             NaN\n",
      "properties.$first_visit_time                                    111.204.198.242\n",
      "properties.$ip                                                             True\n",
      "properties.$is_first_day                                                  False\n",
      "properties.$is_first_time                                                      \n",
      "properties.$latest_referrer                                                    \n",
      "properties.$latest_referrer_host                                            NaN\n",
      "properties.$latest_utm_campaign                                             NaN\n",
      "properties.$latest_utm_content                                              NaN\n",
      "properties.$latest_utm_medium                                               NaN\n",
      "properties.$latest_utm_source                                               NaN\n",
      "properties.$latest_utm_term                                                  js\n",
      "properties.$lib                                                          1.6.20\n",
      "properties.$lib_version                                                      pc\n",
      "properties.$model                                                       windows\n",
      "properties.$os                                                               10\n",
      "properties.$os_version                                                      NaN\n",
      "properties.$referrer                                                        NaN\n",
      "properties.$referrer_host                                                   768\n",
      "properties.$screen_height                                                  1366\n",
      "properties.$screen_width                                                    NaN\n",
      "properties.$title                                                           NaN\n",
      "properties.$url                                                             NaN\n",
      "properties.$url_path                                                        NaN\n",
      "properties.$utm_campaign                                                    NaN\n",
      "properties.$utm_content                                                     NaN\n",
      "properties.$utm_medium                                                      NaN\n",
      "properties.$utm_source                                                      NaN\n",
      "properties.$utm_term                                                       demo\n",
      "properties._latest_ch                                                       NaN\n",
      "properties._session_from_url                                                   \n",
      "properties._session_referrer                                                NaN\n",
      "properties._session_referrer_domain                                            \n",
      "properties._session_referrer_host                                           NaN\n",
      "properties.ch                                                               B**\n",
      "properties.company                                                  186********\n",
      "properties.contact                                               c*************\n",
      "properties.email                                                           demo\n",
      "properties.from_url                                                         NaN\n",
      "properties.info                                                             NaN\n",
      "properties.isMsg                                                            NaN\n",
      "properties.isSuccess                                                        y**\n",
      "properties.name                                                             NaN\n",
      "properties.page                                                             NaN\n",
      "properties.pagePosition                                                     NaN\n",
      "properties.pageStayTime                                                     NaN\n",
      "properties.pageUrl                                                          NaN\n",
      "properties.project_name                                                     NaN\n",
      "properties.referrHostUrl                                                    NaN\n",
      "properties.referrerUrl                                                        2\n",
      "properties.requestBtn                                                       NaN\n",
      "properties.result                               https://sensorsdata.cn/?ch=demo\n",
      "properties.session_page_url                                                 NaN\n",
      "properties.siteUrl                              https://sensorsdata.cn/?ch=demo\n",
      "properties.site_url                                                         NaN\n",
      "properties.url_path                                                        9415\n",
      "properties.verification_code                                      1488791143422\n",
      "time                                   9939d3e087bca29c42334d96dccd25ca0e06652a\n",
      "distinct_id                                                         clickSubmit\n",
      "event                                                                       NaN\n",
      "jssdk_error                                                                  js\n",
      "lib.$lib                                                                   code\n",
      "lib.$lib_method                                                          1.6.20\n",
      "lib.$lib_version                                                         chrome\n",
      "properties.$browser                                                          56\n",
      "properties.$browser_version                                                 NaN\n",
      "properties.$first_browser_language                                          NaN\n",
      "properties.$first_referrer                                                  NaN\n",
      "properties.$first_referrer_host                                             NaN\n",
      "properties.$first_visit_time                                    111.204.198.242\n",
      "properties.$ip                                                             True\n",
      "properties.$is_first_day                                                  False\n",
      "properties.$is_first_time                                                      \n",
      "properties.$latest_referrer                                                    \n",
      "properties.$latest_referrer_host                                            NaN\n",
      "properties.$latest_utm_campaign                                             NaN\n",
      "properties.$latest_utm_content                                              NaN\n",
      "properties.$latest_utm_medium                                               NaN\n",
      "properties.$latest_utm_source                                               NaN\n",
      "properties.$latest_utm_term                                                  js\n",
      "properties.$lib                                                          1.6.20\n",
      "properties.$lib_version                                                      pc\n",
      "properties.$model                                                       windows\n",
      "properties.$os                                                               10\n",
      "properties.$os_version                                                      NaN\n",
      "properties.$referrer                                                        NaN\n",
      "properties.$referrer_host                                                   768\n",
      "properties.$screen_height                                                  1366\n",
      "properties.$screen_width                                                    NaN\n",
      "properties.$title                                                           NaN\n",
      "properties.$url                                                             NaN\n",
      "properties.$url_path                                                        NaN\n",
      "properties.$utm_campaign                                                    NaN\n",
      "properties.$utm_content                                                     NaN\n",
      "properties.$utm_medium                                                      NaN\n",
      "properties.$utm_source                                                      NaN\n",
      "properties.$utm_term                                                       demo\n",
      "properties._latest_ch                                                       NaN\n",
      "properties._session_from_url                                                   \n",
      "properties._session_referrer                                                NaN\n",
      "properties._session_referrer_domain                                            \n",
      "properties._session_referrer_host                                           NaN\n",
      "properties.ch                                                               B**\n",
      "properties.company                                                  186********\n",
      "properties.contact                                               c*************\n",
      "properties.email                                                           demo\n",
      "properties.from_url                                                         NaN\n",
      "properties.info                                                             NaN\n",
      "properties.isMsg                                                            NaN\n",
      "properties.isSuccess                                                        y**\n",
      "properties.name                                                             NaN\n",
      "properties.page                                                             NaN\n",
      "properties.pagePosition                                                     NaN\n",
      "properties.pageStayTime                                                     NaN\n",
      "properties.pageUrl                                                          NaN\n",
      "properties.project_name                                                     NaN\n",
      "properties.referrHostUrl                                                    NaN\n",
      "properties.referrerUrl                                                        2\n",
      "properties.requestBtn                                                       NaN\n",
      "properties.result                               https://sensorsdata.cn/?ch=demo\n",
      "properties.session_page_url                                                 NaN\n",
      "properties.siteUrl                              https://sensorsdata.cn/?ch=demo\n",
      "properties.site_url                                                         NaN\n",
      "properties.url_path                                                        9415\n",
      "properties.verification_code                                      1488791143422\n",
      "time                                                     ...                   \n",
      "type                                                                      track\n",
      "Name: 32, Length: 70, dtype: object\n"
     ]
    }
   ],
   "source": [
    "# first page view\n",
    "with pd.option_context('display.max_rows', -1, 'display.max_columns', 5):      \n",
    "    print(sec_user.loc[32])\n",
    "    \n",
    "    #utm_source: demo"
   ]
  },
  {
   "cell_type": "code",
   "execution_count": 110,
   "metadata": {},
   "outputs": [
    {
     "name": "stdout",
     "output_type": "stream",
     "text": [
      "                                                                  8207407748558\n",
      "_nocache                               9939d3e087bca29c42334d96dccd25ca0e06652a\n",
      "distinct_id                                                            btnClick\n",
      "event                                                                       NaN\n",
      "jssdk_error                                                                  js\n",
      "lib.$lib                                                                   code\n",
      "lib.$lib_method                                                          1.6.20\n",
      "lib.$lib_version                                                         chrome\n",
      "properties.$browser                                                          56\n",
      "properties.$browser_version                                                 NaN\n",
      "properties.$first_browser_language                                          NaN\n",
      "properties.$first_referrer                                                  NaN\n",
      "properties.$first_referrer_host                                             NaN\n",
      "properties.$first_visit_time                                    111.204.198.242\n",
      "properties.$ip                                                             True\n",
      "properties.$is_first_day                                                  False\n",
      "properties.$is_first_time                                                      \n",
      "properties.$latest_referrer                                                    \n",
      "properties.$latest_referrer_host                                            NaN\n",
      "properties.$latest_utm_campaign                                             NaN\n",
      "properties.$latest_utm_content                                              NaN\n",
      "properties.$latest_utm_medium                                               NaN\n",
      "properties.$latest_utm_source                                               NaN\n",
      "properties.$latest_utm_term                                                  js\n",
      "properties.$lib                                                          1.6.20\n",
      "properties.$lib_version                                                      pc\n",
      "properties.$model                                                       windows\n",
      "properties.$os                                                               10\n",
      "properties.$os_version                                                      NaN\n",
      "properties.$referrer                                                        NaN\n",
      "properties.$referrer_host                                                   768\n",
      "properties.$screen_height                                                  1366\n",
      "properties.$screen_width                                                    NaN\n",
      "properties.$title                                                           NaN\n",
      "properties.$url                                                             NaN\n",
      "properties.$url_path                                                        NaN\n",
      "properties.$utm_campaign                                                    NaN\n",
      "properties.$utm_content                                                     NaN\n",
      "properties.$utm_medium                                                      NaN\n",
      "properties.$utm_source                                                      NaN\n",
      "properties.$utm_term                                                       demo\n",
      "properties._latest_ch                                                       NaN\n",
      "properties._session_from_url                                                   \n",
      "properties._session_referrer                                                NaN\n",
      "properties._session_referrer_domain                                            \n",
      "properties._session_referrer_host                                           NaN\n",
      "properties.ch                                                               NaN\n",
      "properties.company                                                          NaN\n",
      "properties.contact                                                          NaN\n",
      "properties.email                                                            NaN\n",
      "properties.from_url                                                         NaN\n",
      "properties.info                                                             NaN\n",
      "properties.isMsg                                                            NaN\n",
      "properties.isSuccess                                                    request\n",
      "properties.name                                                           index\n",
      "properties.page                                                             NaN\n",
      "properties.pagePosition                                                     NaN\n",
      "properties.pageStayTime                         https://sensorsdata.cn/?ch=demo\n",
      "properties.pageUrl                                                          NaN\n",
      "properties.project_name                                                     NaN\n",
      "properties.referrHostUrl                                                    NaN\n",
      "properties.referrerUrl                                                        2\n",
      "properties.requestBtn                                                       NaN\n",
      "properties.result                               https://sensorsdata.cn/?ch=demo\n",
      "properties.session_page_url                                                 NaN\n",
      "properties.siteUrl                                                          NaN\n",
      "properties.site_url                                                         NaN\n",
      "properties.url_path                                                         NaN\n",
      "properties.verification_code                                      1488791056032\n",
      "time                                   9939d3e087bca29c42334d96dccd25ca0e06652a\n",
      "distinct_id                                                            btnClick\n",
      "event                                                                       NaN\n",
      "jssdk_error                                                                  js\n",
      "lib.$lib                                                                   code\n",
      "lib.$lib_method                                                          1.6.20\n",
      "lib.$lib_version                                                         chrome\n",
      "properties.$browser                                                          56\n",
      "properties.$browser_version                                                 NaN\n",
      "properties.$first_browser_language                                          NaN\n",
      "properties.$first_referrer                                                  NaN\n",
      "properties.$first_referrer_host                                             NaN\n",
      "properties.$first_visit_time                                    111.204.198.242\n",
      "properties.$ip                                                             True\n",
      "properties.$is_first_day                                                  False\n",
      "properties.$is_first_time                                                      \n",
      "properties.$latest_referrer                                                    \n",
      "properties.$latest_referrer_host                                            NaN\n",
      "properties.$latest_utm_campaign                                             NaN\n",
      "properties.$latest_utm_content                                              NaN\n",
      "properties.$latest_utm_medium                                               NaN\n",
      "properties.$latest_utm_source                                               NaN\n",
      "properties.$latest_utm_term                                                  js\n",
      "properties.$lib                                                          1.6.20\n",
      "properties.$lib_version                                                      pc\n",
      "properties.$model                                                       windows\n",
      "properties.$os                                                               10\n",
      "properties.$os_version                                                      NaN\n",
      "properties.$referrer                                                        NaN\n",
      "properties.$referrer_host                                                   768\n",
      "properties.$screen_height                                                  1366\n",
      "properties.$screen_width                                                    NaN\n",
      "properties.$title                                                           NaN\n",
      "properties.$url                                                             NaN\n",
      "properties.$url_path                                                        NaN\n",
      "properties.$utm_campaign                                                    NaN\n",
      "properties.$utm_content                                                     NaN\n",
      "properties.$utm_medium                                                      NaN\n",
      "properties.$utm_source                                                      NaN\n",
      "properties.$utm_term                                                       demo\n",
      "properties._latest_ch                                                       NaN\n",
      "properties._session_from_url                                                   \n",
      "properties._session_referrer                                                NaN\n",
      "properties._session_referrer_domain                                            \n",
      "properties._session_referrer_host                                           NaN\n",
      "properties.ch                                                               NaN\n",
      "properties.company                                                          NaN\n",
      "properties.contact                                                          NaN\n",
      "properties.email                                                            NaN\n",
      "properties.from_url                                                         NaN\n",
      "properties.info                                                             NaN\n",
      "properties.isMsg                                                            NaN\n",
      "properties.isSuccess                                                    request\n",
      "properties.name                                                           index\n",
      "properties.page                                                             NaN\n",
      "properties.pagePosition                                                     NaN\n",
      "properties.pageStayTime                         https://sensorsdata.cn/?ch=demo\n",
      "properties.pageUrl                                                          NaN\n",
      "properties.project_name                                                     NaN\n",
      "properties.referrHostUrl                                                    NaN\n",
      "properties.referrerUrl                                                        2\n",
      "properties.requestBtn                                                       NaN\n",
      "properties.result                               https://sensorsdata.cn/?ch=demo\n",
      "properties.session_page_url                                                 NaN\n",
      "properties.siteUrl                                                          NaN\n",
      "properties.site_url                                                         NaN\n",
      "properties.url_path                                                         NaN\n",
      "properties.verification_code                                      1488791056032\n",
      "time                                                     ...                   \n",
      "type                                                                      track\n",
      "Name: 4, Length: 70, dtype: object\n"
     ]
    }
   ],
   "source": [
    "with pd.option_context('display.max_rows', -1, 'display.max_columns', 5):      \n",
    "    print(sec_user.loc[4])"
   ]
  },
  {
   "cell_type": "code",
   "execution_count": 129,
   "metadata": {},
   "outputs": [
    {
     "name": "stdout",
     "output_type": "stream",
     "text": [
      "                                                                  8207407748558\n",
      "_nocache                               9939d3e087bca29c42334d96dccd25ca0e06652a\n",
      "distinct_id                                                            btnClick\n",
      "event                                                                       NaN\n",
      "jssdk_error                                                                  js\n",
      "lib.$lib                                                                   code\n",
      "lib.$lib_method                                                          1.6.20\n",
      "lib.$lib_version                                                         chrome\n",
      "properties.$browser                                                          56\n",
      "properties.$browser_version                                                 NaN\n",
      "properties.$first_browser_language                                          NaN\n",
      "properties.$first_referrer                                                  NaN\n",
      "properties.$first_referrer_host                                             NaN\n",
      "properties.$first_visit_time                                    111.204.198.242\n",
      "properties.$ip                                                             True\n",
      "properties.$is_first_day                                                  False\n",
      "properties.$is_first_time                                                      \n",
      "properties.$latest_referrer                                                    \n",
      "properties.$latest_referrer_host                                            NaN\n",
      "properties.$latest_utm_campaign                                             NaN\n",
      "properties.$latest_utm_content                                              NaN\n",
      "properties.$latest_utm_medium                                               NaN\n",
      "properties.$latest_utm_source                                               NaN\n",
      "properties.$latest_utm_term                                                  js\n",
      "properties.$lib                                                          1.6.20\n",
      "properties.$lib_version                                                      pc\n",
      "properties.$model                                                       windows\n",
      "properties.$os                                                               10\n",
      "properties.$os_version                                                      NaN\n",
      "properties.$referrer                                                        NaN\n",
      "properties.$referrer_host                                                   768\n",
      "properties.$screen_height                                                  1366\n",
      "properties.$screen_width                                                    NaN\n",
      "properties.$title                                                           NaN\n",
      "properties.$url                                                             NaN\n",
      "properties.$url_path                                                        NaN\n",
      "properties.$utm_campaign                                                    NaN\n",
      "properties.$utm_content                                                     NaN\n",
      "properties.$utm_medium                                                      NaN\n",
      "properties.$utm_source                                                      NaN\n",
      "properties.$utm_term                                                       demo\n",
      "properties._latest_ch                                                       NaN\n",
      "properties._session_from_url                                                   \n",
      "properties._session_referrer                                                NaN\n",
      "properties._session_referrer_domain                                            \n",
      "properties._session_referrer_host                                           NaN\n",
      "properties.ch                                                               NaN\n",
      "properties.company                                                          NaN\n",
      "properties.contact                                                          NaN\n",
      "properties.email                                                            NaN\n",
      "properties.from_url                                                         NaN\n",
      "properties.info                                                             NaN\n",
      "properties.isMsg                                                            NaN\n",
      "properties.isSuccess                                                    request\n",
      "properties.name                                                           index\n",
      "properties.page                                                             NaN\n",
      "properties.pagePosition                                                     NaN\n",
      "properties.pageStayTime                         https://sensorsdata.cn/?ch=demo\n",
      "properties.pageUrl                                                          NaN\n",
      "properties.project_name                                                     NaN\n",
      "properties.referrHostUrl                                                    NaN\n",
      "properties.referrerUrl                                                        2\n",
      "properties.requestBtn                                                       NaN\n",
      "properties.result                               https://sensorsdata.cn/?ch=demo\n",
      "properties.session_page_url                                                 NaN\n",
      "properties.siteUrl                                                          NaN\n",
      "properties.site_url                                                         NaN\n",
      "properties.url_path                                                         NaN\n",
      "properties.verification_code                                      1488791056032\n",
      "time                                   9939d3e087bca29c42334d96dccd25ca0e06652a\n",
      "distinct_id                                                            btnClick\n",
      "event                                                                       NaN\n",
      "jssdk_error                                                                  js\n",
      "lib.$lib                                                                   code\n",
      "lib.$lib_method                                                          1.6.20\n",
      "lib.$lib_version                                                         chrome\n",
      "properties.$browser                                                          56\n",
      "properties.$browser_version                                                 NaN\n",
      "properties.$first_browser_language                                          NaN\n",
      "properties.$first_referrer                                                  NaN\n",
      "properties.$first_referrer_host                                             NaN\n",
      "properties.$first_visit_time                                    111.204.198.242\n",
      "properties.$ip                                                             True\n",
      "properties.$is_first_day                                                  False\n",
      "properties.$is_first_time                                                      \n",
      "properties.$latest_referrer                                                    \n",
      "properties.$latest_referrer_host                                            NaN\n",
      "properties.$latest_utm_campaign                                             NaN\n",
      "properties.$latest_utm_content                                              NaN\n",
      "properties.$latest_utm_medium                                               NaN\n",
      "properties.$latest_utm_source                                               NaN\n",
      "properties.$latest_utm_term                                                  js\n",
      "properties.$lib                                                          1.6.20\n",
      "properties.$lib_version                                                      pc\n",
      "properties.$model                                                       windows\n",
      "properties.$os                                                               10\n",
      "properties.$os_version                                                      NaN\n",
      "properties.$referrer                                                        NaN\n",
      "properties.$referrer_host                                                   768\n",
      "properties.$screen_height                                                  1366\n",
      "properties.$screen_width                                                    NaN\n",
      "properties.$title                                                           NaN\n",
      "properties.$url                                                             NaN\n",
      "properties.$url_path                                                        NaN\n",
      "properties.$utm_campaign                                                    NaN\n",
      "properties.$utm_content                                                     NaN\n",
      "properties.$utm_medium                                                      NaN\n",
      "properties.$utm_source                                                      NaN\n",
      "properties.$utm_term                                                       demo\n",
      "properties._latest_ch                                                       NaN\n",
      "properties._session_from_url                                                   \n",
      "properties._session_referrer                                                NaN\n",
      "properties._session_referrer_domain                                            \n",
      "properties._session_referrer_host                                           NaN\n",
      "properties.ch                                                               NaN\n",
      "properties.company                                                          NaN\n",
      "properties.contact                                                          NaN\n",
      "properties.email                                                            NaN\n",
      "properties.from_url                                                         NaN\n",
      "properties.info                                                             NaN\n",
      "properties.isMsg                                                            NaN\n",
      "properties.isSuccess                                                    request\n",
      "properties.name                                                           index\n",
      "properties.page                                                             NaN\n",
      "properties.pagePosition                                                     NaN\n",
      "properties.pageStayTime                         https://sensorsdata.cn/?ch=demo\n",
      "properties.pageUrl                                                          NaN\n",
      "properties.project_name                                                     NaN\n",
      "properties.referrHostUrl                                                    NaN\n",
      "properties.referrerUrl                                                        2\n",
      "properties.requestBtn                                                       NaN\n",
      "properties.result                               https://sensorsdata.cn/?ch=demo\n",
      "properties.session_page_url                                                 NaN\n",
      "properties.siteUrl                                                          NaN\n",
      "properties.site_url                                                         NaN\n",
      "properties.url_path                                                         NaN\n",
      "properties.verification_code                                      1488791056032\n",
      "time                                                     ...                   \n",
      "type                                                                      track\n",
      "Name: 4, Length: 70, dtype: object\n"
     ]
    }
   ],
   "source": [
    "with pd.option_context('display.max_rows', -1, 'display.max_columns', 5):      \n",
    "    print(sec_user.loc[4])"
   ]
  },
  {
   "cell_type": "markdown",
   "metadata": {},
   "source": [
    "### What i found after learning from two individual uers' behaviors\n",
    "    * Only when leaving the page there is page stay time\n",
    "    * 同样的button click event数据基本是一样的 除了name选项 前面的是request申请试用按钮， 后面是demo链接按钮 网页有不同的链接\n",
    "    * pageview不同event的时候就是跳转到不同页面的时候以下是不同的：properties.$title 汉字的网页title，         properties.$url，properties.$url_path\n",
    "    * path 相当于后缀就是url的后缀 所以短一些 properties.session_page_url 是不变的\n",
    "    * pagePosition 当前页面滚动到什么地方 但是一共就4个值index leave的时候是1"
   ]
  },
  {
   "cell_type": "markdown",
   "metadata": {},
   "source": [
    "## Data exploration: user activity level for different events"
   ]
  },
  {
   "cell_type": "code",
   "execution_count": 133,
   "metadata": {},
   "outputs": [
    {
     "data": {
      "text/plain": [
       "$pageview                32620\n",
       "btnClick                 13866\n",
       "index_leave              10394\n",
       "demo_leave                3411\n",
       "about_leave               1032\n",
       "courses_leave              906\n",
       "formSubmit                 791\n",
       "courses_play_leave         747\n",
       "click_send_cellphone       600\n",
       "verify_cellphone_code      563\n",
       "clickSubmit                513\n",
       "page_close                 230\n",
       "Name: event, dtype: int64"
      ]
     },
     "execution_count": 133,
     "metadata": {},
     "output_type": "execute_result"
    }
   ],
   "source": [
    "df['event'].value_counts()"
   ]
  },
  {
   "cell_type": "markdown",
   "metadata": {},
   "source": [
    "### Convert timestamp to datetime to extract day information"
   ]
  },
  {
   "cell_type": "code",
   "execution_count": 191,
   "metadata": {},
   "outputs": [
    {
     "data": {
      "text/plain": [
       "datetime.datetime(2017, 3, 6, 1, 4, 7, 953000)"
      ]
     },
     "execution_count": 191,
     "metadata": {},
     "output_type": "execute_result"
    }
   ],
   "source": [
    "import datetime\n",
    "datetime.datetime.fromtimestamp(df['time'][0] / 1e3)"
   ]
  },
  {
   "cell_type": "code",
   "execution_count": 144,
   "metadata": {},
   "outputs": [],
   "source": [
    "# this is about one month's data"
   ]
  },
  {
   "cell_type": "markdown",
   "metadata": {},
   "source": [
    "\n",
    "    * This is about one month's data\n",
    "    * Then i want to look at user activity by day of week\n",
    "    * group user activity by day of week"
   ]
  },
  {
   "cell_type": "code",
   "execution_count": 192,
   "metadata": {},
   "outputs": [],
   "source": [
    "def convert_day(t):\n",
    "    \n",
    "    return datetime.datetime.fromtimestamp( t / 1e3)"
   ]
  },
  {
   "cell_type": "code",
   "execution_count": 193,
   "metadata": {},
   "outputs": [],
   "source": [
    "df['date']=df['time'].apply(convert_day)"
   ]
  },
  {
   "cell_type": "code",
   "execution_count": 194,
   "metadata": {},
   "outputs": [],
   "source": [
    "df['day']=df['date'].apply(lambda x:x.weekday())"
   ]
  },
  {
   "cell_type": "code",
   "execution_count": 310,
   "metadata": {},
   "outputs": [],
   "source": [
    "df['month_day']=[df['date'][i].day for i in range(df.shape[0])]"
   ]
  },
  {
   "cell_type": "code",
   "execution_count": 195,
   "metadata": {},
   "outputs": [
    {
     "data": {
      "text/plain": [
       "0    18129\n",
       "1    14851\n",
       "4    14583\n",
       "3    10304\n",
       "2     8849\n",
       "6     5718\n",
       "5     2658\n",
       "Name: day, dtype: int64"
      ]
     },
     "execution_count": 195,
     "metadata": {},
     "output_type": "execute_result"
    }
   ],
   "source": [
    "df['day'].value_counts()   # now column day contains values form monday to sunday where monday is 0, sunday is 6"
   ]
  },
  {
   "cell_type": "code",
   "execution_count": 182,
   "metadata": {},
   "outputs": [
    {
     "data": {
      "image/png": "[encoded data removed]",
      "text/plain": [
       "<Figure size 432x288 with 1 Axes>"
      ]
     },
     "metadata": {},
     "output_type": "display_data"
    }
   ],
   "source": [
    "groups=df.groupby('day')['event'].count()\n",
    "\n",
    "groups.plot.bar()\n",
    "plt.title('2017 March events over week')\n",
    "plt.show()\n"
   ]
  },
  {
   "cell_type": "markdown",
   "metadata": {},
   "source": [
    "### This graph shows number of events vs weekday from monday to sunday, it looks like more activities in Monday and Tuesday and very less activies in Sat and Sunday. "
   ]
  },
  {
   "cell_type": "markdown",
   "metadata": {},
   "source": [
    "\n",
    "### Now i want to look at user activity levels for different events, group by event and count distinct user id as a new table"
   ]
  },
  {
   "cell_type": "code",
   "execution_count": 188,
   "metadata": {},
   "outputs": [
    {
     "data": {
      "text/plain": [
       "11756"
      ]
     },
     "execution_count": 188,
     "metadata": {},
     "output_type": "execute_result"
    }
   ],
   "source": [
    "#let me see how many distinct user\n",
    "len(df['distinct_id'].value_counts())"
   ]
  },
  {
   "cell_type": "code",
   "execution_count": 190,
   "metadata": {},
   "outputs": [
    {
     "data": {
      "text/plain": [
       "(75092, 72)"
      ]
     },
     "execution_count": 190,
     "metadata": {},
     "output_type": "execute_result"
    }
   ],
   "source": [
    "df.shape   # with 75092 records, there are actually 11756 users"
   ]
  },
  {
   "cell_type": "code",
   "execution_count": 25,
   "metadata": {},
   "outputs": [],
   "source": [
    "table_event=df.groupby('event')['distinct_id'].nunique()   # this is to group by event and count distinct id number"
   ]
  },
  {
   "cell_type": "code",
   "execution_count": 26,
   "metadata": {},
   "outputs": [
    {
     "data": {
      "text/plain": [
       "event\n",
       "$pageview                11587\n",
       "index_leave               6946\n",
       "btnClick                  4501\n",
       "demo_leave                1436\n",
       "about_leave                712\n",
       "courses_leave              692\n",
       "click_send_cellphone       501\n",
       "formSubmit                 497\n",
       "verify_cellphone_code      472\n",
       "clickSubmit                461\n",
       "courses_play_leave         370\n",
       "page_close                  97\n",
       "Name: distinct_id, dtype: int64"
      ]
     },
     "execution_count": 26,
     "metadata": {},
     "output_type": "execute_result"
    }
   ],
   "source": [
    "table_event.sort_values(ascending=False)"
   ]
  },
  {
   "cell_type": "code",
   "execution_count": 624,
   "metadata": {},
   "outputs": [
    {
     "data": {
      "image/png": "[encoded data removed]",
      "text/plain": [
       "<Figure size 432x288 with 1 Axes>"
      ]
     },
     "metadata": {},
     "output_type": "display_data"
    }
   ],
   "source": [
    "table_event.sort_values(ascending=False).plot(kind='bar')\n",
    "plt.title('event user activity level')\n",
    "plt.show()"
   ]
  },
  {
   "cell_type": "markdown",
   "metadata": {},
   "source": [
    "### Horizontal bar chart"
   ]
  },
  {
   "cell_type": "code",
   "execution_count": 214,
   "metadata": {},
   "outputs": [
    {
     "data": {
      "text/plain": [
       "pandas.core.series.Series"
      ]
     },
     "execution_count": 214,
     "metadata": {},
     "output_type": "execute_result"
    }
   ],
   "source": [
    "test=table_event.sort_values(ascending=False)\n"
   ]
  },
  {
   "cell_type": "code",
   "execution_count": 220,
   "metadata": {},
   "outputs": [
    {
     "data": {
      "text/plain": [
       "event\n",
       "$pageview                11587\n",
       "index_leave               6946\n",
       "btnClick                  4501\n",
       "demo_leave                1436\n",
       "about_leave                712\n",
       "courses_leave              692\n",
       "click_send_cellphone       501\n",
       "formSubmit                 497\n",
       "verify_cellphone_code      472\n",
       "clickSubmit                461\n",
       "courses_play_leave         370\n",
       "page_close                  97\n",
       "Name: distinct_id, dtype: int64"
      ]
     },
     "execution_count": 220,
     "metadata": {},
     "output_type": "execute_result"
    }
   ],
   "source": [
    "test"
   ]
  },
  {
   "cell_type": "code",
   "execution_count": 228,
   "metadata": {},
   "outputs": [],
   "source": [
    "import itertools \n",
    "x=list(test.index)\n",
    "counts=list(test.values)\n",
    "\n",
    "x_pos=[i for i,_ in enumerate(x)]"
   ]
  },
  {
   "cell_type": "code",
   "execution_count": 238,
   "metadata": {},
   "outputs": [
    {
     "data": {
      "image/png": "[encoded data removed]",
      "text/plain": [
       "<Figure size 864x576 with 1 Axes>"
      ]
     },
     "metadata": {},
     "output_type": "display_data"
    }
   ],
   "source": [
    "plt.figure(figsize=(12,8))\n",
    "plt.barh(x_pos[::-1],counts,color='green')\n",
    "plt.ylabel('events')\n",
    "plt.xlabel('counts')\n",
    "plt.title('number of different events')\n",
    "\n",
    "plt.yticks(x_pos[::-1],x)\n",
    "plt.show()"
   ]
  },
  {
   "cell_type": "markdown",
   "metadata": {},
   "source": [
    "* Funnel Analysis: To identify the bottleneck of conversion\n",
    "* procedure i defined: pageview -> btnclick->  click send cellphone-> formsubmit/clicksubmit"
   ]
  },
  {
   "cell_type": "code",
   "execution_count": 274,
   "metadata": {},
   "outputs": [
    {
     "data": {
      "text/html": [
       "<div>\n",
       "<style scoped>\n",
       "    .dataframe tbody tr th:only-of-type {\n",
       "        vertical-align: middle;\n",
       "    }\n",
       "\n",
       "    .dataframe tbody tr th {\n",
       "        vertical-align: top;\n",
       "    }\n",
       "\n",
       "    .dataframe thead th {\n",
       "        text-align: right;\n",
       "    }\n",
       "</style>\n",
       "<table border=\"1\" class=\"dataframe\">\n",
       "  <thead>\n",
       "    <tr style=\"text-align: right;\">\n",
       "      <th></th>\n",
       "      <th>event</th>\n",
       "      <th>count</th>\n",
       "      <th>cr</th>\n",
       "    </tr>\n",
       "  </thead>\n",
       "  <tbody>\n",
       "    <tr>\n",
       "      <th>0</th>\n",
       "      <td>$pageview</td>\n",
       "      <td>11587</td>\n",
       "      <td>1.000000</td>\n",
       "    </tr>\n",
       "    <tr>\n",
       "      <th>1</th>\n",
       "      <td>index_leave</td>\n",
       "      <td>6946</td>\n",
       "      <td>0.599465</td>\n",
       "    </tr>\n",
       "    <tr>\n",
       "      <th>2</th>\n",
       "      <td>btnClick</td>\n",
       "      <td>4501</td>\n",
       "      <td>0.647999</td>\n",
       "    </tr>\n",
       "    <tr>\n",
       "      <th>3</th>\n",
       "      <td>demo_leave</td>\n",
       "      <td>1436</td>\n",
       "      <td>0.319040</td>\n",
       "    </tr>\n",
       "    <tr>\n",
       "      <th>4</th>\n",
       "      <td>about_leave</td>\n",
       "      <td>712</td>\n",
       "      <td>0.495822</td>\n",
       "    </tr>\n",
       "    <tr>\n",
       "      <th>5</th>\n",
       "      <td>courses_leave</td>\n",
       "      <td>692</td>\n",
       "      <td>0.971910</td>\n",
       "    </tr>\n",
       "    <tr>\n",
       "      <th>6</th>\n",
       "      <td>click_send_cellphone</td>\n",
       "      <td>501</td>\n",
       "      <td>0.723988</td>\n",
       "    </tr>\n",
       "    <tr>\n",
       "      <th>7</th>\n",
       "      <td>formSubmit</td>\n",
       "      <td>497</td>\n",
       "      <td>0.992016</td>\n",
       "    </tr>\n",
       "    <tr>\n",
       "      <th>8</th>\n",
       "      <td>verify_cellphone_code</td>\n",
       "      <td>472</td>\n",
       "      <td>0.949698</td>\n",
       "    </tr>\n",
       "    <tr>\n",
       "      <th>9</th>\n",
       "      <td>clickSubmit</td>\n",
       "      <td>461</td>\n",
       "      <td>0.976695</td>\n",
       "    </tr>\n",
       "    <tr>\n",
       "      <th>10</th>\n",
       "      <td>courses_play_leave</td>\n",
       "      <td>370</td>\n",
       "      <td>0.802603</td>\n",
       "    </tr>\n",
       "    <tr>\n",
       "      <th>11</th>\n",
       "      <td>page_close</td>\n",
       "      <td>97</td>\n",
       "      <td>0.262162</td>\n",
       "    </tr>\n",
       "  </tbody>\n",
       "</table>\n",
       "</div>"
      ],
      "text/plain": [
       "                    event  count        cr\n",
       "0               $pageview  11587  1.000000\n",
       "1             index_leave   6946  0.599465\n",
       "2                btnClick   4501  0.647999\n",
       "3              demo_leave   1436  0.319040\n",
       "4             about_leave    712  0.495822\n",
       "5           courses_leave    692  0.971910\n",
       "6    click_send_cellphone    501  0.723988\n",
       "7              formSubmit    497  0.992016\n",
       "8   verify_cellphone_code    472  0.949698\n",
       "9             clickSubmit    461  0.976695\n",
       "10     courses_play_leave    370  0.802603\n",
       "11             page_close     97  0.262162"
      ]
     },
     "execution_count": 274,
     "metadata": {},
     "output_type": "execute_result"
    }
   ],
   "source": [
    "df_event_counts"
   ]
  },
  {
   "cell_type": "code",
   "execution_count": null,
   "metadata": {},
   "outputs": [],
   "source": [
    "# this is the new funnel that i defined, now calculate the new conversion rate"
   ]
  },
  {
   "cell_type": "code",
   "execution_count": 284,
   "metadata": {},
   "outputs": [
    {
     "name": "stderr",
     "output_type": "stream",
     "text": [
      "/Users/yichu/anaconda/envs/py3k/lib/python3.6/site-packages/ipykernel_launcher.py:3: SettingWithCopyWarning: \n",
      "A value is trying to be set on a copy of a slice from a DataFrame.\n",
      "Try using .loc[row_indexer,col_indexer] = value instead\n",
      "\n",
      "See the caveats in the documentation: http://pandas.pydata.org/pandas-docs/stable/indexing.html#indexing-view-versus-copy\n",
      "  This is separate from the ipykernel package so we can avoid doing imports until\n",
      "/Users/yichu/anaconda/envs/py3k/lib/python3.6/site-packages/pandas/core/indexing.py:189: SettingWithCopyWarning: \n",
      "A value is trying to be set on a copy of a slice from a DataFrame\n",
      "\n",
      "See the caveats in the documentation: http://pandas.pydata.org/pandas-docs/stable/indexing.html#indexing-view-versus-copy\n",
      "  self._setitem_with_indexer(indexer, value)\n",
      "/Users/yichu/anaconda/envs/py3k/lib/python3.6/site-packages/ipykernel_launcher.py:5: SettingWithCopyWarning: \n",
      "A value is trying to be set on a copy of a slice from a DataFrame\n",
      "\n",
      "See the caveats in the documentation: http://pandas.pydata.org/pandas-docs/stable/indexing.html#indexing-view-versus-copy\n",
      "  \"\"\"\n"
     ]
    }
   ],
   "source": [
    "for i in range(4):\n",
    "    if i==0:\n",
    "        df_select_event['cr']=1\n",
    "    else:\n",
    "        df_select_event['cr'].iloc[i]=df_select_event.iloc[i]['count']/df_select_event.iloc[i-1]['count']\n",
    "    "
   ]
  },
  {
   "cell_type": "code",
   "execution_count": 285,
   "metadata": {},
   "outputs": [
    {
     "data": {
      "text/html": [
       "<div>\n",
       "<style scoped>\n",
       "    .dataframe tbody tr th:only-of-type {\n",
       "        vertical-align: middle;\n",
       "    }\n",
       "\n",
       "    .dataframe tbody tr th {\n",
       "        vertical-align: top;\n",
       "    }\n",
       "\n",
       "    .dataframe thead th {\n",
       "        text-align: right;\n",
       "    }\n",
       "</style>\n",
       "<table border=\"1\" class=\"dataframe\">\n",
       "  <thead>\n",
       "    <tr style=\"text-align: right;\">\n",
       "      <th></th>\n",
       "      <th>event</th>\n",
       "      <th>count</th>\n",
       "      <th>cr</th>\n",
       "    </tr>\n",
       "  </thead>\n",
       "  <tbody>\n",
       "    <tr>\n",
       "      <th>0</th>\n",
       "      <td>$pageview</td>\n",
       "      <td>11587</td>\n",
       "      <td>1.000000</td>\n",
       "    </tr>\n",
       "    <tr>\n",
       "      <th>2</th>\n",
       "      <td>btnClick</td>\n",
       "      <td>4501</td>\n",
       "      <td>0.388453</td>\n",
       "    </tr>\n",
       "    <tr>\n",
       "      <th>6</th>\n",
       "      <td>click_send_cellphone</td>\n",
       "      <td>501</td>\n",
       "      <td>0.111309</td>\n",
       "    </tr>\n",
       "    <tr>\n",
       "      <th>7</th>\n",
       "      <td>formSubmit</td>\n",
       "      <td>497</td>\n",
       "      <td>0.992016</td>\n",
       "    </tr>\n",
       "  </tbody>\n",
       "</table>\n",
       "</div>"
      ],
      "text/plain": [
       "                  event  count        cr\n",
       "0             $pageview  11587  1.000000\n",
       "2              btnClick   4501  0.388453\n",
       "6  click_send_cellphone    501  0.111309\n",
       "7            formSubmit    497  0.992016"
      ]
     },
     "execution_count": 285,
     "metadata": {},
     "output_type": "execute_result"
    }
   ],
   "source": [
    "df_select_event"
   ]
  },
  {
   "cell_type": "markdown",
   "metadata": {},
   "source": [
    "* sharp drop from page view to button click, similarly on previous bar chart too, which could because most users do not even have the interest to click on pages.\n",
    "* there is also drop from botton click to send cell phone verification code, some users who clicked multiple buttons but do not want to register with cell phone number maybe due to privacy concerns?\n",
    "* suggestions: try to improve index page quality so that more engagement could be created with the users"
   ]
  },
  {
   "cell_type": "markdown",
   "metadata": {},
   "source": [
    "## Stay time"
   ]
  },
  {
   "cell_type": "code",
   "execution_count": 291,
   "metadata": {},
   "outputs": [
    {
     "data": {
      "text/plain": [
       "count    1.672000e+04\n",
       "mean     6.681742e+03\n",
       "std      5.343221e+04\n",
       "min      3.300000e-02\n",
       "25%      5.390750e+00\n",
       "50%      2.057950e+01\n",
       "75%      2.261860e+02\n",
       "max      2.918014e+06\n",
       "Name: properties.pageStayTime, dtype: float64"
      ]
     },
     "execution_count": 291,
     "metadata": {},
     "output_type": "execute_result"
    }
   ],
   "source": [
    "df['properties.pageStayTime'].describe()   #after taking a look the data only when the event is leaving one page there will be one reported stay time"
   ]
  },
  {
   "cell_type": "markdown",
   "metadata": {},
   "source": [
    " * By looking at different pages' staytime, we can have a rough idea what page seems more interesting"
   ]
  },
  {
   "cell_type": "code",
   "execution_count": 295,
   "metadata": {},
   "outputs": [
    {
     "data": {
      "image/png": "[encoded data removed]",
      "text/plain": [
       "<Figure size 432x288 with 1 Axes>"
      ]
     },
     "metadata": {},
     "output_type": "display_data"
    }
   ],
   "source": [
    "df['properties.pageStayTime'].hist()\n",
    "plt.show()"
   ]
  },
  {
   "cell_type": "code",
   "execution_count": 299,
   "metadata": {},
   "outputs": [
    {
     "data": {
      "text/plain": [
       "<matplotlib.axes._subplots.AxesSubplot at 0x1313bd240>"
      ]
     },
     "execution_count": 299,
     "metadata": {},
     "output_type": "execute_result"
    },
    {
     "data": {
      "image/png": "[encoded data removed]",
      "text/plain": [
       "<Figure size 432x288 with 1 Axes>"
      ]
     },
     "metadata": {},
     "output_type": "display_data"
    }
   ],
   "source": [
    "df.groupby('event')['properties.pageStayTime'].sum().dropna().plot.barh()"
   ]
  },
  {
   "cell_type": "markdown",
   "metadata": {},
   "source": [
    "This makes sense that people has index page open most of the time, demo may take a longer time to watch too.Aabout page and other pages may not account that much"
   ]
  },
  {
   "cell_type": "code",
   "execution_count": 309,
   "metadata": {},
   "outputs": [
    {
     "data": {
      "text/plain": [
       "<matplotlib.axes._subplots.AxesSubplot at 0x130267518>"
      ]
     },
     "execution_count": 309,
     "metadata": {},
     "output_type": "execute_result"
    },
    {
     "data": {
      "image/png": "[encoded data removed]",
      "text/plain": [
       "<Figure size 432x288 with 1 Axes>"
      ]
     },
     "metadata": {},
     "output_type": "display_data"
    }
   ],
   "source": [
    "df.groupby('event')['properties.pageStayTime'].mean().dropna().sort_values().plot.barh()"
   ]
  },
  {
   "cell_type": "markdown",
   "metadata": {},
   "source": [
    "   This is the average time that people spend on each page. again, demo and course are the ones that play some videos, users are supposed to spend much time on it. The least interesting page is the index page, which confirms preivous finding that the front page is not interesting enough, the users neither wants to click buttons nore spend too much time on it"
   ]
  },
  {
   "cell_type": "markdown",
   "metadata": {},
   "source": [
    "## Compare user behavior"
   ]
  },
  {
   "cell_type": "code",
   "execution_count": 5,
   "metadata": {},
   "outputs": [],
   "source": [
    "#df.groupby('distinct_id')['event'].count().sort_values(ascending=False)"
   ]
  },
  {
   "cell_type": "code",
   "execution_count": 317,
   "metadata": {},
   "outputs": [
    {
     "data": {
      "text/plain": [
       "count    11756.000000\n",
       "mean         5.586339\n",
       "std         10.485401\n",
       "min          0.000000\n",
       "25%          1.000000\n",
       "50%          2.000000\n",
       "75%          5.000000\n",
       "max        254.000000\n",
       "Name: event, dtype: float64"
      ]
     },
     "execution_count": 317,
     "metadata": {},
     "output_type": "execute_result"
    }
   ],
   "source": [
    "df.groupby('distinct_id')['event'].count().describe()"
   ]
  },
  {
   "cell_type": "markdown",
   "metadata": {},
   "source": [
    "* on average there are 5 events for each user, with most active user having 254 events"
   ]
  },
  {
   "cell_type": "code",
   "execution_count": 320,
   "metadata": {},
   "outputs": [
    {
     "data": {
      "text/plain": [
       "<matplotlib.axes._subplots.AxesSubplot at 0x1302bd128>"
      ]
     },
     "execution_count": 320,
     "metadata": {},
     "output_type": "execute_result"
    },
    {
     "data": {
      "image/png": "[encoded data removed]",
      "text/plain": [
       "<Figure size 432x288 with 1 Axes>"
      ]
     },
     "metadata": {},
     "output_type": "display_data"
    }
   ],
   "source": [
    "df.groupby('distinct_id')['event'].count().hist()"
   ]
  },
  {
   "cell_type": "code",
   "execution_count": 321,
   "metadata": {},
   "outputs": [
    {
     "data": {
      "text/plain": [
       "2.0"
      ]
     },
     "execution_count": 321,
     "metadata": {},
     "output_type": "execute_result"
    }
   ],
   "source": [
    "df.groupby('distinct_id')['event'].count().median()"
   ]
  },
  {
   "cell_type": "code",
   "execution_count": 21,
   "metadata": {},
   "outputs": [],
   "source": [
    "user_activity=pd.DataFrame(df.groupby('distinct_id')['event'].count()).reset_index()"
   ]
  },
  {
   "cell_type": "code",
   "execution_count": 22,
   "metadata": {},
   "outputs": [
    {
     "data": {
      "text/html": [
       "<div>\n",
       "<style scoped>\n",
       "    .dataframe tbody tr th:only-of-type {\n",
       "        vertical-align: middle;\n",
       "    }\n",
       "\n",
       "    .dataframe tbody tr th {\n",
       "        vertical-align: top;\n",
       "    }\n",
       "\n",
       "    .dataframe thead th {\n",
       "        text-align: right;\n",
       "    }\n",
       "</style>\n",
       "<table border=\"1\" class=\"dataframe\">\n",
       "  <thead>\n",
       "    <tr style=\"text-align: right;\">\n",
       "      <th></th>\n",
       "      <th>distinct_id</th>\n",
       "      <th>event</th>\n",
       "    </tr>\n",
       "  </thead>\n",
       "  <tbody>\n",
       "    <tr>\n",
       "      <th>0</th>\n",
       "      <td>00007ef910b6c9911f1b89d01a09aa3fc862f4a9</td>\n",
       "      <td>6</td>\n",
       "    </tr>\n",
       "    <tr>\n",
       "      <th>1</th>\n",
       "      <td>000a216b72eff19bd0d5e17b9e676dd6ad9a38ac</td>\n",
       "      <td>1</td>\n",
       "    </tr>\n",
       "    <tr>\n",
       "      <th>2</th>\n",
       "      <td>000c46a27ef69fa22b56d253a9c72773338a1686</td>\n",
       "      <td>22</td>\n",
       "    </tr>\n",
       "    <tr>\n",
       "      <th>3</th>\n",
       "      <td>000ed1dcd942969b458c5b308937c6389c08f999</td>\n",
       "      <td>4</td>\n",
       "    </tr>\n",
       "    <tr>\n",
       "      <th>4</th>\n",
       "      <td>00111feff544ef5280a4c7064a362a9ea59c9389</td>\n",
       "      <td>1</td>\n",
       "    </tr>\n",
       "  </tbody>\n",
       "</table>\n",
       "</div>"
      ],
      "text/plain": [
       "                                distinct_id  event\n",
       "0  00007ef910b6c9911f1b89d01a09aa3fc862f4a9      6\n",
       "1  000a216b72eff19bd0d5e17b9e676dd6ad9a38ac      1\n",
       "2  000c46a27ef69fa22b56d253a9c72773338a1686     22\n",
       "3  000ed1dcd942969b458c5b308937c6389c08f999      4\n",
       "4  00111feff544ef5280a4c7064a362a9ea59c9389      1"
      ]
     },
     "execution_count": 22,
     "metadata": {},
     "output_type": "execute_result"
    }
   ],
   "source": [
    "user_activity.head()"
   ]
  },
  {
   "cell_type": "code",
   "execution_count": 331,
   "metadata": {},
   "outputs": [
    {
     "data": {
      "text/plain": [
       "chrome            42091\n",
       "safari             6952\n",
       "firefox            3775\n",
       "qq                 2973\n",
       "sogou              2779\n",
       "ie                 2254\n",
       "edge               1297\n",
       "micromessenger     1125\n",
       "uc                  866\n",
       "maxthon             316\n",
       "webview             292\n",
       "baidu               235\n",
       "theworld            153\n",
       "mi                  148\n",
       "na                   87\n",
       "opera                87\n",
       "liebao               82\n",
       "android              65\n",
       "360                  59\n",
       "tt                   28\n",
       "yandex                4\n",
       "coolnovo              4\n",
       "ali-ap                1\n",
       "Name: properties.$browser, dtype: int64"
      ]
     },
     "execution_count": 331,
     "metadata": {},
     "output_type": "execute_result"
    }
   ],
   "source": [
    "df['properties.$browser'].value_counts()"
   ]
  },
  {
   "cell_type": "code",
   "execution_count": 333,
   "metadata": {},
   "outputs": [
    {
     "data": {
      "text/plain": [
       "cpc                   34623\n",
       "mcpc                   3255\n",
       "mfeed                   934\n",
       "default                 538\n",
       "answer                  133\n",
       "banner                   67\n",
       "hao.caibaojian.com       33\n",
       "production               27\n",
       "sidonghui                24\n",
       "toutiao.io               20\n",
       "referral                 15\n",
       "youjian                   8\n",
       "lixinya                   6\n",
       "customer_m                5\n",
       "sidashidai                2\n",
       "edm                       1\n",
       "Name: properties.$latest_utm_medium, dtype: int64"
      ]
     },
     "execution_count": 333,
     "metadata": {},
     "output_type": "execute_result"
    }
   ],
   "source": [
    "df['properties.$latest_utm_medium'].value_counts()"
   ]
  },
  {
   "cell_type": "markdown",
   "metadata": {},
   "source": [
    "### Campaign Tagging\n",
    "    five tags\n",
    "    * medium: mechanism, how you sent your messages to the user, including email, cpc(cost per click),social medium\n",
    "    * source: where the user came from, could be a specific web page, link in an email, search engie\n",
    "    * campaign: name of marketing campaign\n",
    "    * content: different versions of a promotion, useful when you want to test out which promotion is more effective\n",
    "    * term: identify keyword for paid search campaign, manual tagging\n",
    "    from google analytics"
   ]
  },
  {
   "cell_type": "code",
   "execution_count": 335,
   "metadata": {},
   "outputs": [
    {
     "data": {
      "text/plain": [
       "cpc           10463\n",
       "mcpc           2332\n",
       "mfeed          1065\n",
       "default          26\n",
       "production        6\n",
       "answer            4\n",
       "Name: properties.$utm_medium, dtype: int64"
      ]
     },
     "execution_count": 335,
     "metadata": {},
     "output_type": "execute_result"
    }
   ],
   "source": [
    "df['properties.$utm_medium'].value_counts()"
   ]
  },
  {
   "cell_type": "markdown",
   "metadata": {},
   "source": [
    "    *I am not sure the meaning of mcpc, mfeed and default here, but cpc is the highest here which I think means that the search engine campaign works the best in directing users to the website."
   ]
  },
  {
   "cell_type": "code",
   "execution_count": 336,
   "metadata": {},
   "outputs": [
    {
     "data": {
      "text/plain": [
       "baidu            12368\n",
       "sogou             1193\n",
       "google             232\n",
       "wechat             114\n",
       "sanjieke.cn         68\n",
       "next.36kr.com       19\n",
       "admin                6\n",
       "sales4c              5\n",
       "hzcaibin             4\n",
       "23h5                 4\n",
       "liquantao            4\n",
       "zhihu                4\n",
       "sunjiaqian           3\n",
       "mulumu.com           3\n",
       "zhangyuejiao         2\n",
       "wangxuelin           2\n",
       "zhoushunzhou         2\n",
       "qiye.36kr.com        2\n",
       "xiuxin               1\n",
       "linhuiyong           1\n",
       "liujinbo1            1\n",
       "admin10              1\n",
       "jonson               1\n",
       "xiangc               1\n",
       "fuyu                 1\n",
       "zhangji              1\n",
       "dichang              1\n",
       "lul                  1\n",
       "tianguang            1\n",
       "lingchentian         1\n",
       "Name: properties.$utm_source, dtype: int64"
      ]
     },
     "execution_count": 336,
     "metadata": {},
     "output_type": "execute_result"
    }
   ],
   "source": [
    "df['properties.$utm_source'].value_counts()"
   ]
  },
  {
   "cell_type": "markdown",
   "metadata": {},
   "source": [
    "  * Here another finding is that most users are from baidu website which is a similar search engine as google in China followed by other search websites."
   ]
  },
  {
   "cell_type": "markdown",
   "metadata": {},
   "source": [
    " * Now try to look at how many users view each title of the website"
   ]
  },
  {
   "cell_type": "code",
   "execution_count": 24,
   "metadata": {},
   "outputs": [],
   "source": [
    "\n",
    "title_group=pd.DataFrame(df.groupby('properties.$title')['distinct_id'].nunique()).reset_index()"
   ]
  },
  {
   "cell_type": "code",
   "execution_count": 352,
   "metadata": {},
   "outputs": [
    {
     "data": {
      "text/html": [
       "<div>\n",
       "<style scoped>\n",
       "    .dataframe tbody tr th:only-of-type {\n",
       "        vertical-align: middle;\n",
       "    }\n",
       "\n",
       "    .dataframe tbody tr th {\n",
       "        vertical-align: top;\n",
       "    }\n",
       "\n",
       "    .dataframe thead th {\n",
       "        text-align: right;\n",
       "    }\n",
       "</style>\n",
       "<table border=\"1\" class=\"dataframe\">\n",
       "  <thead>\n",
       "    <tr style=\"text-align: right;\">\n",
       "      <th></th>\n",
       "      <th>properties.$title</th>\n",
       "      <th>distinct_id</th>\n",
       "    </tr>\n",
       "  </thead>\n",
       "  <tbody>\n",
       "    <tr>\n",
       "      <th>99</th>\n",
       "      <td>神策数据 | Sensors Data - 国内领先的用户行为分析产品</td>\n",
       "      <td>9343</td>\n",
       "    </tr>\n",
       "    <tr>\n",
       "      <th>33</th>\n",
       "      <td>介绍 · Sensors Analytics 使用手册</td>\n",
       "      <td>2134</td>\n",
       "    </tr>\n",
       "    <tr>\n",
       "      <th>94</th>\n",
       "      <td>神策分析|Sensors Analytics-帮你实现数据驱动－demo</td>\n",
       "      <td>1753</td>\n",
       "    </tr>\n",
       "    <tr>\n",
       "      <th>95</th>\n",
       "      <td>神策分析|Sensors Analytics-帮你实现数据驱动－产品</td>\n",
       "      <td>1653</td>\n",
       "    </tr>\n",
       "    <tr>\n",
       "      <th>93</th>\n",
       "      <td>神策分析|Sensors Analytics-帮你实现数据驱动－B轮融资发布会</td>\n",
       "      <td>1274</td>\n",
       "    </tr>\n",
       "    <tr>\n",
       "      <th>92</th>\n",
       "      <td>神策分析|Sensors Analytics-帮你实现数据驱动-视频列表</td>\n",
       "      <td>849</td>\n",
       "    </tr>\n",
       "    <tr>\n",
       "      <th>96</th>\n",
       "      <td>神策分析|Sensors Analytics-帮你实现数据驱动－关于</td>\n",
       "      <td>834</td>\n",
       "    </tr>\n",
       "    <tr>\n",
       "      <th>97</th>\n",
       "      <td>神策分析|Sensors Analytics-帮你实现数据驱动－视频播放</td>\n",
       "      <td>390</td>\n",
       "    </tr>\n",
       "    <tr>\n",
       "      <th>71</th>\n",
       "      <td>数据模型 · Sensors Analytics 使用手册</td>\n",
       "      <td>166</td>\n",
       "    </tr>\n",
       "    <tr>\n",
       "      <th>18</th>\n",
       "      <td>JavaScript SDK · Sensors Analytics 使用手册</td>\n",
       "      <td>125</td>\n",
       "    </tr>\n",
       "  </tbody>\n",
       "</table>\n",
       "</div>"
      ],
      "text/plain": [
       "                          properties.$title  distinct_id\n",
       "99      神策数据 | Sensors Data - 国内领先的用户行为分析产品         9343\n",
       "33              介绍 · Sensors Analytics 使用手册         2134\n",
       "94     神策分析|Sensors Analytics-帮你实现数据驱动－demo         1753\n",
       "95       神策分析|Sensors Analytics-帮你实现数据驱动－产品         1653\n",
       "93  神策分析|Sensors Analytics-帮你实现数据驱动－B轮融资发布会         1274\n",
       "92     神策分析|Sensors Analytics-帮你实现数据驱动-视频列表          849\n",
       "96       神策分析|Sensors Analytics-帮你实现数据驱动－关于          834\n",
       "97     神策分析|Sensors Analytics-帮你实现数据驱动－视频播放          390\n",
       "71            数据模型 · Sensors Analytics 使用手册          166\n",
       "18  JavaScript SDK · Sensors Analytics 使用手册          125"
      ]
     },
     "execution_count": 352,
     "metadata": {},
     "output_type": "execute_result"
    }
   ],
   "source": [
    "title_group.sort_values(by='distinct_id', ascending=False)[:10]"
   ]
  },
  {
   "cell_type": "markdown",
   "metadata": {},
   "source": [
    "   * This is the list of pages users watched most, the top three are:index page, introduction, demo, product some conferences and manual, which are the logical order of users view the website."
   ]
  },
  {
   "cell_type": "code",
   "execution_count": 353,
   "metadata": {},
   "outputs": [
    {
     "data": {
      "text/html": [
       "<div>\n",
       "<style scoped>\n",
       "    .dataframe tbody tr th:only-of-type {\n",
       "        vertical-align: middle;\n",
       "    }\n",
       "\n",
       "    .dataframe tbody tr th {\n",
       "        vertical-align: top;\n",
       "    }\n",
       "\n",
       "    .dataframe thead th {\n",
       "        text-align: right;\n",
       "    }\n",
       "</style>\n",
       "<table border=\"1\" class=\"dataframe\">\n",
       "  <thead>\n",
       "    <tr style=\"text-align: right;\">\n",
       "      <th></th>\n",
       "      <th>properties.$title</th>\n",
       "      <th>distinct_id</th>\n",
       "    </tr>\n",
       "  </thead>\n",
       "  <tbody>\n",
       "    <tr>\n",
       "      <th>56</th>\n",
       "      <td>导入状态 · Sensors Analytics 使用手册</td>\n",
       "      <td>1</td>\n",
       "    </tr>\n",
       "    <tr>\n",
       "      <th>1</th>\n",
       "      <td>3 神策分析|Sensors Analytics-帮你实现数据驱动－产品</td>\n",
       "      <td>1</td>\n",
       "    </tr>\n",
       "    <tr>\n",
       "      <th>45</th>\n",
       "      <td>分析师事件权限设置工具 · Sensors Analytics 使用手册</td>\n",
       "      <td>1</td>\n",
       "    </tr>\n",
       "    <tr>\n",
       "      <th>42</th>\n",
       "      <td>其他辅助工具 · Sensors Analytics 使用手册</td>\n",
       "      <td>1</td>\n",
       "    </tr>\n",
       "    <tr>\n",
       "      <th>24</th>\n",
       "      <td>Sensor Analytics - help you implement data dri...</td>\n",
       "      <td>1</td>\n",
       "    </tr>\n",
       "    <tr>\n",
       "      <th>11</th>\n",
       "      <td>C SDK · Sensors Analytics 使用手册</td>\n",
       "      <td>1</td>\n",
       "    </tr>\n",
       "    <tr>\n",
       "      <th>4</th>\n",
       "      <td>4 介绍 · Sensors Analytics 使用手册</td>\n",
       "      <td>1</td>\n",
       "    </tr>\n",
       "    <tr>\n",
       "      <th>3</th>\n",
       "      <td>3 神策数据 | Sensors Data - 国内领先的用户行为分析产品</td>\n",
       "      <td>1</td>\n",
       "    </tr>\n",
       "    <tr>\n",
       "      <th>2</th>\n",
       "      <td>3 神策分析|Sensors Analytics-帮你实现数据驱动－关于</td>\n",
       "      <td>1</td>\n",
       "    </tr>\n",
       "    <tr>\n",
       "      <th>107</th>\n",
       "      <td>进阶使用场景 · Sensors Analytics 使用手册</td>\n",
       "      <td>1</td>\n",
       "    </tr>\n",
       "  </tbody>\n",
       "</table>\n",
       "</div>"
      ],
      "text/plain": [
       "                                     properties.$title  distinct_id\n",
       "56                       导入状态 · Sensors Analytics 使用手册            1\n",
       "1                 3 神策分析|Sensors Analytics-帮你实现数据驱动－产品            1\n",
       "45                分析师事件权限设置工具 · Sensors Analytics 使用手册            1\n",
       "42                     其他辅助工具 · Sensors Analytics 使用手册            1\n",
       "24   Sensor Analytics - help you implement data dri...            1\n",
       "11                      C SDK · Sensors Analytics 使用手册            1\n",
       "4                        4 介绍 · Sensors Analytics 使用手册            1\n",
       "3                3 神策数据 | Sensors Data - 国内领先的用户行为分析产品            1\n",
       "2                 3 神策分析|Sensors Analytics-帮你实现数据驱动－关于            1\n",
       "107                    进阶使用场景 · Sensors Analytics 使用手册            1"
      ]
     },
     "execution_count": 353,
     "metadata": {},
     "output_type": "execute_result"
    }
   ],
   "source": [
    "title_group.sort_values(by='distinct_id', ascending=False)[-10:]"
   ]
  },
  {
   "cell_type": "markdown",
   "metadata": {},
   "source": [
    " * This is the last frequent pages that users viewed, they are mainly user handbook, which makes sense when you first browse a website you don't read too much detail information."
   ]
  },
  {
   "cell_type": "markdown",
   "metadata": {},
   "source": [
    "## Modeling  sign-up "
   ]
  },
  {
   "cell_type": "code",
   "execution_count": 27,
   "metadata": {},
   "outputs": [
    {
     "data": {
      "text/plain": [
       "event\n",
       "$pageview                11587\n",
       "about_leave                712\n",
       "btnClick                  4501\n",
       "clickSubmit                461\n",
       "click_send_cellphone       501\n",
       "courses_leave              692\n",
       "courses_play_leave         370\n",
       "demo_leave                1436\n",
       "formSubmit                 497\n",
       "index_leave               6946\n",
       "page_close                  97\n",
       "verify_cellphone_code      472\n",
       "Name: distinct_id, dtype: int64"
      ]
     },
     "execution_count": 27,
     "metadata": {},
     "output_type": "execute_result"
    }
   ],
   "source": [
    "table_event"
   ]
  },
  {
   "cell_type": "markdown",
   "metadata": {},
   "source": [
    "### 1. categorize data into binary sign up or not, if there is event form_submit/clicksubmit counted as sign up otherwise not"
   ]
  },
  {
   "cell_type": "code",
   "execution_count": 625,
   "metadata": {},
   "outputs": [
    {
     "data": {
      "text/plain": [
       "11756"
      ]
     },
     "execution_count": 625,
     "metadata": {},
     "output_type": "execute_result"
    }
   ],
   "source": [
    "df['distinct_id'].nunique()"
   ]
  },
  {
   "cell_type": "code",
   "execution_count": null,
   "metadata": {},
   "outputs": [],
   "source": [
    "# to get target value "
   ]
  },
  {
   "cell_type": "code",
   "execution_count": 129,
   "metadata": {},
   "outputs": [],
   "source": [
    "mm=list(df['distinct_id'].groupby(df['event']))\n",
    "#index:3,8 containing form submit\n",
    "submit_list1=list(mm[8][1].values) \n",
    "submit_list2=list(mm[3][1].values) \n",
    "submit_no=len(set(submit_list1))+len(set(submit_list2)) "
   ]
  },
  {
   "cell_type": "code",
   "execution_count": 130,
   "metadata": {},
   "outputs": [
    {
     "data": {
      "text/plain": [
       "0.08149030282408982"
      ]
     },
     "execution_count": 130,
     "metadata": {},
     "output_type": "execute_result"
    }
   ],
   "source": [
    "# what percentage of viewers convert at final step\n",
    "(submit_no*1.0)/df['distinct_id'].nunique()"
   ]
  },
  {
   "cell_type": "markdown",
   "metadata": {},
   "source": [
    "It looks like the conversion rate is really low\n",
    "now explore some potential features"
   ]
  },
  {
   "cell_type": "code",
   "execution_count": 138,
   "metadata": {},
   "outputs": [],
   "source": [
    "submit_list=submit_list1+submit_list2  # there were people who had both events so may need to delete the duplicate"
   ]
  },
  {
   "cell_type": "code",
   "execution_count": 140,
   "metadata": {},
   "outputs": [
    {
     "data": {
      "text/plain": [
       "501"
      ]
     },
     "execution_count": 140,
     "metadata": {},
     "output_type": "execute_result"
    }
   ],
   "source": [
    "len(set(submit_list))   # so unique number of users who had this event is only 501"
   ]
  },
  {
   "cell_type": "markdown",
   "metadata": {},
   "source": [
    "* submit_list contains distinct id for users who converged at last"
   ]
  },
  {
   "cell_type": "code",
   "execution_count": 141,
   "metadata": {},
   "outputs": [],
   "source": [
    "submit_list=set(submit_list1+submit_list2 )"
   ]
  },
  {
   "cell_type": "code",
   "execution_count": 150,
   "metadata": {},
   "outputs": [],
   "source": [
    "event_count=df.groupby('distinct_id')['event'].count()"
   ]
  },
  {
   "cell_type": "code",
   "execution_count": 151,
   "metadata": {},
   "outputs": [
    {
     "data": {
      "text/plain": [
       "pandas.core.series.Series"
      ]
     },
     "execution_count": 151,
     "metadata": {},
     "output_type": "execute_result"
    }
   ],
   "source": [
    "type(event_count)"
   ]
  },
  {
   "cell_type": "markdown",
   "metadata": {},
   "source": [
    "### 2. Event based to user based dataframe\n",
    "   * generate a new dataframe that is user based/ each row is one user "
   ]
  },
  {
   "cell_type": "code",
   "execution_count": 407,
   "metadata": {},
   "outputs": [
    {
     "data": {
      "text/plain": [
       "properties.from_url    11295\n",
       "dtype: int64"
      ]
     },
     "execution_count": 407,
     "metadata": {},
     "output_type": "execute_result"
    }
   ],
   "source": [
    "from_url_df.isnull().sum()   # too many missing values though"
   ]
  },
  {
   "cell_type": "markdown",
   "metadata": {},
   "source": [
    " Features created using groupby, one thing i found really useful is .first() method\n",
    " groupby .first and groupby.last methods return the first and last non-null values!!!"
   ]
  },
  {
   "cell_type": "code",
   "execution_count": null,
   "metadata": {},
   "outputs": [],
   "source": [
    "utm_df=df.groupby('distinct_id')[['properties.$utm_medium']].first()"
   ]
  },
  {
   "cell_type": "code",
   "execution_count": null,
   "metadata": {},
   "outputs": [],
   "source": [
    "# how many pages they visited \n",
    "page_df=df.groupby('distinct_id')[['properties.pageUrl']].count()\n",
    "# how many times they clicked buttons\n",
    "button_df=df.groupby('distinct_id')[['properties.requestBtn']].count()\n",
    "# the longest time they stay on the web\n",
    "stay_longest_df=df.groupby('distinct_id')[['properties.pageStayTime']].max()\n",
    "average_staytime=df.groupby('distinct_id')[['properties.pageStayTime']].mean()\n",
    "model_df=df.groupby('distinct_id')[['properties.$model']].first()\n",
    "browser_df=df.groupby('distinct_id')[['properties.$browser']].first()\n",
    "ip_df=df.groupby('distinct_id')[['properties.$ip']].first()\n",
    "utm_latest_df=df.groupby('distinct_id')[['properties.$latest_utm_medium']].first()\n",
    "#operating system\n",
    "os_df=df.groupby('distinct_id')[['properties.$os']].first()\n",
    "height_df=df.groupby('distinct_id')[['properties.$screen_height']].first()\n",
    "width_df=df.groupby('distinct_id')[['properties.$screen_width']].first()"
   ]
  },
  {
   "cell_type": "code",
   "execution_count": 521,
   "metadata": {},
   "outputs": [],
   "source": [
    "df_user=df_user.join(browser_df).join(ip_df).join(utm_latest_df).join(os_df).join(height_df).join(width_df).join(utm_df).join(page_df).join(button_df).join(stay_longest_df)"
   ]
  },
  {
   "cell_type": "code",
   "execution_count": 626,
   "metadata": {},
   "outputs": [],
   "source": [
    "#df_user=df_user.set_index('distinct_id').join(model_df)"
   ]
  },
  {
   "cell_type": "markdown",
   "metadata": {},
   "source": [
    "### the groupby .first and groupby.last methods return the first and last non-null values!!!"
   ]
  },
  {
   "cell_type": "code",
   "execution_count": 529,
   "metadata": {},
   "outputs": [
    {
     "data": {
      "text/plain": [
       "Index(['visit_times', 'no_events', 'properties.$browser', 'properties.$ip',\n",
       "       'properties.$latest_utm_medium', 'properties.$os',\n",
       "       'properties.$screen_height', 'properties.$screen_width',\n",
       "       'properties.$utm_medium', 'properties.pageUrl', 'properties.requestBtn',\n",
       "       'properties.pageStayTime', 'properties.$model'],\n",
       "      dtype='object')"
      ]
     },
     "execution_count": 529,
     "metadata": {},
     "output_type": "execute_result"
    }
   ],
   "source": [
    "df_user.columns"
   ]
  },
  {
   "cell_type": "code",
   "execution_count": 533,
   "metadata": {},
   "outputs": [],
   "source": [
    "df_user=df_user.reset_index()"
   ]
  },
  {
   "cell_type": "code",
   "execution_count": 525,
   "metadata": {},
   "outputs": [
    {
     "data": {
      "text/plain": [
       "(11756, 12)"
      ]
     },
     "execution_count": 525,
     "metadata": {},
     "output_type": "execute_result"
    }
   ],
   "source": [
    "df_user.shape"
   ]
  },
  {
   "cell_type": "code",
   "execution_count": 526,
   "metadata": {},
   "outputs": [],
   "source": [
    "df_user=df_user.reset_index()"
   ]
  },
  {
   "cell_type": "code",
   "execution_count": 489,
   "metadata": {},
   "outputs": [
    {
     "data": {
      "text/plain": [
       "Index(['distinct_id', 'visit_times', 'no_events', 'model', 'browser', 'ip',\n",
       "       'os', 'height', 'width', 'utm_medium', 'pageurl', 'no_button_clicks',\n",
       "       'longest_page_staytime', 'sign_up', 'properties.pageStayTime'],\n",
       "      dtype='object')"
      ]
     },
     "execution_count": 489,
     "metadata": {},
     "output_type": "execute_result"
    }
   ],
   "source": [
    "df_user.columns"
   ]
  },
  {
   "cell_type": "code",
   "execution_count": 535,
   "metadata": {},
   "outputs": [],
   "source": [
    "#rename column names\n",
    "df_user.columns=['distinct_id', 'visit_times', 'no_events', 'browser', 'ip', 'latest_utm_medium',\n",
    "       'os', 'height', 'width', 'utm_medium', 'pageurl', 'no_button_clicks',\n",
    "       'longest_page_staytime', 'model']"
   ]
  },
  {
   "cell_type": "code",
   "execution_count": 537,
   "metadata": {},
   "outputs": [],
   "source": [
    "df_user.drop('latest_utm_medium',axis=1, inplace=True)"
   ]
  },
  {
   "cell_type": "code",
   "execution_count": 541,
   "metadata": {},
   "outputs": [],
   "source": [
    "df_user.columns=['distinct_id', 'visit_times', 'no_events', 'browser', 'ip', \n",
    "       'os', 'height', 'width', 'utm_medium', 'pageurl', 'no_button_clicks',\n",
    "       'longest_page_staytime', 'model','average_staytime']"
   ]
  },
  {
   "cell_type": "code",
   "execution_count": 543,
   "metadata": {},
   "outputs": [],
   "source": [
    "df_user.drop('pageurl',axis=1, inplace=True)"
   ]
  },
  {
   "cell_type": "code",
   "execution_count": 627,
   "metadata": {},
   "outputs": [],
   "source": [
    "#eave_event=['index_leave','demo_leave','about_leave','courses_leave','courses_play_leave','page_close']"
   ]
  },
  {
   "cell_type": "code",
   "execution_count": 343,
   "metadata": {},
   "outputs": [],
   "source": [
    "\"\"\"\n",
    "index_leave=[]\n",
    "for i in test2['distinct_id']:\n",
    "    \n",
    "    if leave_event[1] in df[df['distinct_id']==i]['event'].values:    # if this user has this leave event\n",
    "        leave.append(df[(df['distinct_id']==i) & (df['event']==leave_event[0])]['properties.pageStayTime'].values)\n",
    "    else:\n",
    "        leave.append(None)\n",
    "\"\"\"         "
   ]
  },
  {
   "cell_type": "code",
   "execution_count": 319,
   "metadata": {},
   "outputs": [],
   "source": [
    "# The following gives me how many times each user visit the website in a month"
   ]
  },
  {
   "cell_type": "code",
   "execution_count": 322,
   "metadata": {},
   "outputs": [],
   "source": [
    "visit_time=pd.DataFrame(df.groupby('distinct_id')['month_day'].nunique().sort_values(ascending=False)) # "
   ]
  },
  {
   "cell_type": "code",
   "execution_count": 545,
   "metadata": {},
   "outputs": [],
   "source": [
    "# now df_user is the new table created user based\n",
    "import pickle\n",
    "\n",
    "filename='df_user_new.pkl'\n",
    "pickle.dump(df_user,open(filename,'wb'))"
   ]
  },
  {
   "cell_type": "code",
   "execution_count": 509,
   "metadata": {},
   "outputs": [
    {
     "data": {
      "text/html": [
       "<div>\n",
       "<style scoped>\n",
       "    .dataframe tbody tr th:only-of-type {\n",
       "        vertical-align: middle;\n",
       "    }\n",
       "\n",
       "    .dataframe tbody tr th {\n",
       "        vertical-align: top;\n",
       "    }\n",
       "\n",
       "    .dataframe thead th {\n",
       "        text-align: right;\n",
       "    }\n",
       "</style>\n",
       "<table border=\"1\" class=\"dataframe\">\n",
       "  <thead>\n",
       "    <tr style=\"text-align: right;\">\n",
       "      <th></th>\n",
       "      <th>distinct_id</th>\n",
       "      <th>visit_times</th>\n",
       "      <th>no_events</th>\n",
       "      <th>model</th>\n",
       "      <th>browser</th>\n",
       "      <th>ip</th>\n",
       "      <th>os</th>\n",
       "      <th>height</th>\n",
       "      <th>width</th>\n",
       "      <th>utm_medium</th>\n",
       "      <th>pageurl</th>\n",
       "      <th>no_button_clicks</th>\n",
       "      <th>longest_page_staytime</th>\n",
       "      <th>sign_up</th>\n",
       "      <th>average_staytime</th>\n",
       "    </tr>\n",
       "  </thead>\n",
       "  <tbody>\n",
       "    <tr>\n",
       "      <th>0</th>\n",
       "      <td>8021</td>\n",
       "      <td>9</td>\n",
       "      <td>115</td>\n",
       "      <td>9</td>\n",
       "      <td>16</td>\n",
       "      <td>1433</td>\n",
       "      <td>3</td>\n",
       "      <td>900.0</td>\n",
       "      <td>1440.0</td>\n",
       "      <td>1</td>\n",
       "      <td>32</td>\n",
       "      <td>1</td>\n",
       "      <td>8299.552</td>\n",
       "      <td>0</td>\n",
       "      <td>779.771167</td>\n",
       "    </tr>\n",
       "    <tr>\n",
       "      <th>1</th>\n",
       "      <td>7850</td>\n",
       "      <td>8</td>\n",
       "      <td>37</td>\n",
       "      <td>9</td>\n",
       "      <td>16</td>\n",
       "      <td>1427</td>\n",
       "      <td>3</td>\n",
       "      <td>900.0</td>\n",
       "      <td>1440.0</td>\n",
       "      <td>5</td>\n",
       "      <td>13</td>\n",
       "      <td>0</td>\n",
       "      <td>43.352</td>\n",
       "      <td>0</td>\n",
       "      <td>9.952667</td>\n",
       "    </tr>\n",
       "    <tr>\n",
       "      <th>2</th>\n",
       "      <td>5458</td>\n",
       "      <td>8</td>\n",
       "      <td>20</td>\n",
       "      <td>16</td>\n",
       "      <td>4</td>\n",
       "      <td>3051</td>\n",
       "      <td>5</td>\n",
       "      <td>1080.0</td>\n",
       "      <td>1920.0</td>\n",
       "      <td>5</td>\n",
       "      <td>0</td>\n",
       "      <td>0</td>\n",
       "      <td>39079.093</td>\n",
       "      <td>0</td>\n",
       "      <td>18201.566286</td>\n",
       "    </tr>\n",
       "    <tr>\n",
       "      <th>3</th>\n",
       "      <td>1147</td>\n",
       "      <td>8</td>\n",
       "      <td>205</td>\n",
       "      <td>16</td>\n",
       "      <td>4</td>\n",
       "      <td>537</td>\n",
       "      <td>5</td>\n",
       "      <td>1080.0</td>\n",
       "      <td>1920.0</td>\n",
       "      <td>5</td>\n",
       "      <td>80</td>\n",
       "      <td>2</td>\n",
       "      <td>32800.451</td>\n",
       "      <td>0</td>\n",
       "      <td>1250.595525</td>\n",
       "    </tr>\n",
       "    <tr>\n",
       "      <th>4</th>\n",
       "      <td>3472</td>\n",
       "      <td>8</td>\n",
       "      <td>72</td>\n",
       "      <td>9</td>\n",
       "      <td>4</td>\n",
       "      <td>8812</td>\n",
       "      <td>3</td>\n",
       "      <td>600.0</td>\n",
       "      <td>800.0</td>\n",
       "      <td>5</td>\n",
       "      <td>39</td>\n",
       "      <td>0</td>\n",
       "      <td>70257.620</td>\n",
       "      <td>0</td>\n",
       "      <td>7829.317650</td>\n",
       "    </tr>\n",
       "  </tbody>\n",
       "</table>\n",
       "</div>"
      ],
      "text/plain": [
       "   distinct_id  visit_times  no_events  model  browser    ip  os  height  \\\n",
       "0         8021            9        115      9       16  1433   3   900.0   \n",
       "1         7850            8         37      9       16  1427   3   900.0   \n",
       "2         5458            8         20     16        4  3051   5  1080.0   \n",
       "3         1147            8        205     16        4   537   5  1080.0   \n",
       "4         3472            8         72      9        4  8812   3   600.0   \n",
       "\n",
       "    width  utm_medium  pageurl  no_button_clicks  longest_page_staytime  \\\n",
       "0  1440.0           1       32                 1               8299.552   \n",
       "1  1440.0           5       13                 0                 43.352   \n",
       "2  1920.0           5        0                 0              39079.093   \n",
       "3  1920.0           5       80                 2              32800.451   \n",
       "4   800.0           5       39                 0              70257.620   \n",
       "\n",
       "   sign_up  average_staytime  \n",
       "0        0        779.771167  \n",
       "1        0          9.952667  \n",
       "2        0      18201.566286  \n",
       "3        0       1250.595525  \n",
       "4        0       7829.317650  "
      ]
     },
     "execution_count": 509,
     "metadata": {},
     "output_type": "execute_result"
    }
   ],
   "source": [
    "df_user.head()\n"
   ]
  },
  {
   "cell_type": "code",
   "execution_count": 437,
   "metadata": {},
   "outputs": [],
   "source": [
    "# now df_user is the feature matrix, i have to generate a target series as well"
   ]
  },
  {
   "cell_type": "code",
   "execution_count": 438,
   "metadata": {},
   "outputs": [
    {
     "data": {
      "text/plain": [
       "501"
      ]
     },
     "execution_count": 438,
     "metadata": {},
     "output_type": "execute_result"
    }
   ],
   "source": [
    "len(submit_list)"
   ]
  },
  {
   "cell_type": "code",
   "execution_count": 583,
   "metadata": {},
   "outputs": [],
   "source": [
    "df_user['sign_up']=[1 if i in submit_list else 0 for i in df_user['distinct_id'] ]"
   ]
  },
  {
   "cell_type": "code",
   "execution_count": 447,
   "metadata": {},
   "outputs": [
    {
     "data": {
      "text/plain": [
       "0    11255\n",
       "1      501\n",
       "Name: sign_up, dtype: int64"
      ]
     },
     "execution_count": 447,
     "metadata": {},
     "output_type": "execute_result"
    }
   ],
   "source": [
    "df_user['sign_up'].value_counts()"
   ]
  },
  {
   "cell_type": "code",
   "execution_count": 448,
   "metadata": {},
   "outputs": [],
   "source": [
    "target=df_user['sign_up'].values     # this is a very imbalanced  signup target"
   ]
  },
  {
   "cell_type": "markdown",
   "metadata": {},
   "source": [
    "## 3. feature engineering"
   ]
  },
  {
   "cell_type": "code",
   "execution_count": 547,
   "metadata": {},
   "outputs": [
    {
     "data": {
      "text/plain": [
       "distinct_id               object\n",
       "visit_times                int64\n",
       "no_events                  int64\n",
       "browser                   object\n",
       "ip                        object\n",
       "os                        object\n",
       "height                   float64\n",
       "width                    float64\n",
       "utm_medium                object\n",
       "no_button_clicks           int64\n",
       "longest_page_staytime    float64\n",
       "model                     object\n",
       "average_staytime         float64\n",
       "dtype: object"
      ]
     },
     "execution_count": 547,
     "metadata": {},
     "output_type": "execute_result"
    }
   ],
   "source": [
    "df_user.dtypes"
   ]
  },
  {
   "cell_type": "markdown",
   "metadata": {},
   "source": [
    "  * check percentage of missing values"
   ]
  },
  {
   "cell_type": "code",
   "execution_count": 548,
   "metadata": {},
   "outputs": [],
   "source": [
    "def percent_empty(df):\n",
    "    \n",
    "    bools=df.isnull().tolist()\n",
    "    percent_empty=float(bools.count(True))/float(len(bools))\n",
    "    \n",
    "    return percent_empty, float(bools.count(True)) "
   ]
  },
  {
   "cell_type": "code",
   "execution_count": 549,
   "metadata": {},
   "outputs": [],
   "source": [
    "emptiness=[]\n",
    "missing_columns=[]\n",
    "\n",
    "for i in range(df_user.shape[1]):\n",
    "    \n",
    "    p,n =percent_empty(df_user.iloc[:,i])\n",
    "    \n",
    "    if n>0:\n",
    "        missing_columns.append(df_user.columns.values[i])\n",
    "        emptiness.append(round((p),6))"
   ]
  },
  {
   "cell_type": "code",
   "execution_count": 550,
   "metadata": {},
   "outputs": [
    {
     "data": {
      "text/plain": [
       "[('browser', 0.004083),\n",
       " ('ip', 0.004083),\n",
       " ('os', 0.004083),\n",
       " ('height', 0.004083),\n",
       " ('width', 0.004083),\n",
       " ('model', 0.004083),\n",
       " ('longest_page_staytime', 0.369513),\n",
       " ('average_staytime', 0.369513),\n",
       " ('utm_medium', 0.421997)]"
      ]
     },
     "execution_count": 550,
     "metadata": {},
     "output_type": "execute_result"
    }
   ],
   "source": [
    "empty_dict=dict(zip(missing_columns,emptiness))\n",
    "sorted(empty_dict.items(),key=lambda x:x[1])"
   ]
  },
  {
   "cell_type": "markdown",
   "metadata": {},
   "source": [
    " The ones with very littile missing, i filled null with median values"
   ]
  },
  {
   "cell_type": "code",
   "execution_count": 551,
   "metadata": {},
   "outputs": [],
   "source": [
    "fillmedian=['model','browser','ip','os','height','width']"
   ]
  },
  {
   "cell_type": "code",
   "execution_count": 552,
   "metadata": {},
   "outputs": [],
   "source": [
    "for i in fillmedian:\n",
    "    df_user[i]=df_user[i].fillna(df_user[i].value_counts().index[0])"
   ]
  },
  {
   "cell_type": "code",
   "execution_count": 554,
   "metadata": {},
   "outputs": [],
   "source": [
    "df_user['longest_page_staytime']=df_user['longest_page_staytime'].fillna(df_user['longest_page_staytime'].median())"
   ]
  },
  {
   "cell_type": "code",
   "execution_count": 555,
   "metadata": {},
   "outputs": [],
   "source": [
    "df_user['average_staytime']=df_user['average_staytime'].fillna(df_user['average_staytime'].median())"
   ]
  },
  {
   "cell_type": "code",
   "execution_count": 560,
   "metadata": {},
   "outputs": [],
   "source": [
    "import pickle\n",
    "\n",
    "filename='df_user_cleaned.pkl'\n",
    "pickle.dump(df_user,open(filename,'wb'))"
   ]
  },
  {
   "cell_type": "markdown",
   "metadata": {},
   "source": [
    "### Need to collapse too many categorical levels"
   ]
  },
  {
   "cell_type": "markdown",
   "metadata": {},
   "source": [
    " Browser has too many categories, i keep some major ones and leave the rest as one category as \"other\""
   ]
  },
  {
   "cell_type": "code",
   "execution_count": 565,
   "metadata": {},
   "outputs": [],
   "source": [
    "browser_cat=['chrome','safari','qq','firefox','micromessenger','ie','sogou','uc']"
   ]
  },
  {
   "cell_type": "code",
   "execution_count": 568,
   "metadata": {},
   "outputs": [],
   "source": [
    "df_user['new_browser']=[i if i in browser_cat else 'other' for i in df_user['browser'] ]"
   ]
  },
  {
   "cell_type": "code",
   "execution_count": 569,
   "metadata": {},
   "outputs": [
    {
     "data": {
      "text/plain": [
       "chrome            6583\n",
       "safari            1260\n",
       "other              806\n",
       "qq                 637\n",
       "firefox            615\n",
       "micromessenger     535\n",
       "ie                 530\n",
       "sogou              459\n",
       "uc                 331\n",
       "Name: new_browser, dtype: int64"
      ]
     },
     "execution_count": 569,
     "metadata": {},
     "output_type": "execute_result"
    }
   ],
   "source": [
    "df_user['new_browser'].value_counts()"
   ]
  },
  {
   "cell_type": "code",
   "execution_count": 570,
   "metadata": {},
   "outputs": [],
   "source": [
    "# i will leave ip address processing later, now delete it first\n",
    "df_user.drop('ip', axis=1, inplace=True)"
   ]
  },
  {
   "cell_type": "code",
   "execution_count": 571,
   "metadata": {},
   "outputs": [
    {
     "data": {
      "text/plain": [
       "windows    7230\n",
       "macosx     2087\n",
       "iOS        1182\n",
       "Android    1163\n",
       "linux        81\n",
       "na           13\n",
       "Name: os, dtype: int64"
      ]
     },
     "execution_count": 571,
     "metadata": {},
     "output_type": "execute_result"
    }
   ],
   "source": [
    "df_user['os'].value_counts()   # this  number of categories seems good to me"
   ]
  },
  {
   "cell_type": "markdown",
   "metadata": {},
   "source": [
    " Similarly for model field, keep the major ones and the rest as  \"other\""
   ]
  },
  {
   "cell_type": "code",
   "execution_count": 573,
   "metadata": {},
   "outputs": [],
   "source": [
    "model_list=['pc','mac','iphone','android','huawei','vivo','samsung']\n",
    "df_user['new_model']=[i if i in model_list else 'other' for i in df_user['model'] ]"
   ]
  },
  {
   "cell_type": "code",
   "execution_count": 574,
   "metadata": {},
   "outputs": [
    {
     "data": {
      "text/plain": [
       "pc         7230\n",
       "mac        2087\n",
       "iphone     1139\n",
       "android     395\n",
       "other       378\n",
       "huawei      266\n",
       "vivo        167\n",
       "samsung      94\n",
       "Name: new_model, dtype: int64"
      ]
     },
     "execution_count": 574,
     "metadata": {},
     "output_type": "execute_result"
    }
   ],
   "source": [
    "df_user['new_model'].value_counts()"
   ]
  },
  {
   "cell_type": "code",
   "execution_count": 575,
   "metadata": {},
   "outputs": [
    {
     "data": {
      "text/plain": [
       "cpc           5142\n",
       "missing       4961\n",
       "mcpc          1107\n",
       "mfeed          527\n",
       "default         15\n",
       "production       2\n",
       "answer           2\n",
       "Name: utm_medium, dtype: int64"
      ]
     },
     "execution_count": 575,
     "metadata": {},
     "output_type": "execute_result"
    }
   ],
   "source": [
    "df_user['utm_medium'].value_counts()\n"
   ]
  },
  {
   "cell_type": "markdown",
   "metadata": {},
   "source": [
    " * utm medium has almost half data missing， create a new category if its missing"
   ]
  },
  {
   "cell_type": "code",
   "execution_count": 558,
   "metadata": {},
   "outputs": [],
   "source": [
    "df_user['utm_medium']=df_user['utm_medium'].fillna('missing')"
   ]
  },
  {
   "cell_type": "code",
   "execution_count": 576,
   "metadata": {},
   "outputs": [
    {
     "data": {
      "text/html": [
       "<div>\n",
       "<style scoped>\n",
       "    .dataframe tbody tr th:only-of-type {\n",
       "        vertical-align: middle;\n",
       "    }\n",
       "\n",
       "    .dataframe tbody tr th {\n",
       "        vertical-align: top;\n",
       "    }\n",
       "\n",
       "    .dataframe thead th {\n",
       "        text-align: right;\n",
       "    }\n",
       "</style>\n",
       "<table border=\"1\" class=\"dataframe\">\n",
       "  <thead>\n",
       "    <tr style=\"text-align: right;\">\n",
       "      <th></th>\n",
       "      <th>distinct_id</th>\n",
       "      <th>visit_times</th>\n",
       "      <th>no_events</th>\n",
       "      <th>browser</th>\n",
       "      <th>os</th>\n",
       "      <th>height</th>\n",
       "      <th>width</th>\n",
       "      <th>utm_medium</th>\n",
       "      <th>no_button_clicks</th>\n",
       "      <th>longest_page_staytime</th>\n",
       "      <th>model</th>\n",
       "      <th>average_staytime</th>\n",
       "      <th>new_browser</th>\n",
       "      <th>new_model</th>\n",
       "    </tr>\n",
       "  </thead>\n",
       "  <tbody>\n",
       "    <tr>\n",
       "      <th>0</th>\n",
       "      <td>af2c12d0b891fb24abbb0b33fd087cdfc686c72c</td>\n",
       "      <td>9</td>\n",
       "      <td>115</td>\n",
       "      <td>safari</td>\n",
       "      <td>macosx</td>\n",
       "      <td>900.0</td>\n",
       "      <td>1440.0</td>\n",
       "      <td>cpc</td>\n",
       "      <td>1</td>\n",
       "      <td>8299.552</td>\n",
       "      <td>mac</td>\n",
       "      <td>779.771167</td>\n",
       "      <td>safari</td>\n",
       "      <td>mac</td>\n",
       "    </tr>\n",
       "    <tr>\n",
       "      <th>1</th>\n",
       "      <td>abfa2a4ec608806890bdd259021c56faa3c4f866</td>\n",
       "      <td>8</td>\n",
       "      <td>37</td>\n",
       "      <td>safari</td>\n",
       "      <td>macosx</td>\n",
       "      <td>900.0</td>\n",
       "      <td>1440.0</td>\n",
       "      <td>missing</td>\n",
       "      <td>0</td>\n",
       "      <td>43.352</td>\n",
       "      <td>mac</td>\n",
       "      <td>9.952667</td>\n",
       "      <td>safari</td>\n",
       "      <td>mac</td>\n",
       "    </tr>\n",
       "    <tr>\n",
       "      <th>2</th>\n",
       "      <td>791a6fd5a9682ce3908a26c7aee4b408437e4578</td>\n",
       "      <td>8</td>\n",
       "      <td>20</td>\n",
       "      <td>chrome</td>\n",
       "      <td>windows</td>\n",
       "      <td>1080.0</td>\n",
       "      <td>1920.0</td>\n",
       "      <td>missing</td>\n",
       "      <td>0</td>\n",
       "      <td>39079.093</td>\n",
       "      <td>pc</td>\n",
       "      <td>18201.566286</td>\n",
       "      <td>chrome</td>\n",
       "      <td>pc</td>\n",
       "    </tr>\n",
       "    <tr>\n",
       "      <th>3</th>\n",
       "      <td>19db3f7f99eb0f14e5ea5730fe3a936996941269</td>\n",
       "      <td>8</td>\n",
       "      <td>205</td>\n",
       "      <td>chrome</td>\n",
       "      <td>windows</td>\n",
       "      <td>1080.0</td>\n",
       "      <td>1920.0</td>\n",
       "      <td>missing</td>\n",
       "      <td>2</td>\n",
       "      <td>32800.451</td>\n",
       "      <td>pc</td>\n",
       "      <td>1250.595525</td>\n",
       "      <td>chrome</td>\n",
       "      <td>pc</td>\n",
       "    </tr>\n",
       "    <tr>\n",
       "      <th>4</th>\n",
       "      <td>4cc1ae7e8487807f153af0753cba6d815e614baf</td>\n",
       "      <td>8</td>\n",
       "      <td>72</td>\n",
       "      <td>chrome</td>\n",
       "      <td>macosx</td>\n",
       "      <td>600.0</td>\n",
       "      <td>800.0</td>\n",
       "      <td>missing</td>\n",
       "      <td>0</td>\n",
       "      <td>70257.620</td>\n",
       "      <td>mac</td>\n",
       "      <td>7829.317650</td>\n",
       "      <td>chrome</td>\n",
       "      <td>mac</td>\n",
       "    </tr>\n",
       "  </tbody>\n",
       "</table>\n",
       "</div>"
      ],
      "text/plain": [
       "                                distinct_id  visit_times  no_events browser  \\\n",
       "0  af2c12d0b891fb24abbb0b33fd087cdfc686c72c            9        115  safari   \n",
       "1  abfa2a4ec608806890bdd259021c56faa3c4f866            8         37  safari   \n",
       "2  791a6fd5a9682ce3908a26c7aee4b408437e4578            8         20  chrome   \n",
       "3  19db3f7f99eb0f14e5ea5730fe3a936996941269            8        205  chrome   \n",
       "4  4cc1ae7e8487807f153af0753cba6d815e614baf            8         72  chrome   \n",
       "\n",
       "        os  height   width utm_medium  no_button_clicks  \\\n",
       "0   macosx   900.0  1440.0        cpc                 1   \n",
       "1   macosx   900.0  1440.0    missing                 0   \n",
       "2  windows  1080.0  1920.0    missing                 0   \n",
       "3  windows  1080.0  1920.0    missing                 2   \n",
       "4   macosx   600.0   800.0    missing                 0   \n",
       "\n",
       "   longest_page_staytime model  average_staytime new_browser new_model  \n",
       "0               8299.552   mac        779.771167      safari       mac  \n",
       "1                 43.352   mac          9.952667      safari       mac  \n",
       "2              39079.093    pc      18201.566286      chrome        pc  \n",
       "3              32800.451    pc       1250.595525      chrome        pc  \n",
       "4              70257.620   mac       7829.317650      chrome       mac  "
      ]
     },
     "execution_count": 576,
     "metadata": {},
     "output_type": "execute_result"
    }
   ],
   "source": [
    "df_user.head()"
   ]
  },
  {
   "cell_type": "code",
   "execution_count": 578,
   "metadata": {},
   "outputs": [],
   "source": [
    "# now i will delete original columns \n",
    "df_user.drop('browser',axis=1, inplace=True)"
   ]
  },
  {
   "cell_type": "code",
   "execution_count": 579,
   "metadata": {},
   "outputs": [],
   "source": [
    "df_user.drop('model',axis=1, inplace=True)"
   ]
  },
  {
   "cell_type": "code",
   "execution_count": 584,
   "metadata": {},
   "outputs": [],
   "source": [
    "import pickle\n",
    "\n",
    "filename='df_user_cleaned_cat.pkl'\n",
    "pickle.dump(df_user,open(filename,'wb'))"
   ]
  },
  {
   "cell_type": "code",
   "execution_count": 585,
   "metadata": {},
   "outputs": [
    {
     "data": {
      "text/plain": [
       "Index(['distinct_id', 'visit_times', 'no_events', 'os', 'height', 'width',\n",
       "       'utm_medium', 'no_button_clicks', 'longest_page_staytime',\n",
       "       'average_staytime', 'new_browser', 'new_model', 'sign_up'],\n",
       "      dtype='object')"
      ]
     },
     "execution_count": 585,
     "metadata": {},
     "output_type": "execute_result"
    }
   ],
   "source": [
    "df_user.columns"
   ]
  },
  {
   "cell_type": "code",
   "execution_count": 587,
   "metadata": {},
   "outputs": [],
   "source": [
    "feature_list=['visit_times', 'no_events', 'new_model', 'new_browser',\n",
    "       'os', 'height', 'width', 'utm_medium',  'no_button_clicks',\n",
    "       'longest_page_staytime',  'average_staytime']"
   ]
  },
  {
   "cell_type": "code",
   "execution_count": 589,
   "metadata": {},
   "outputs": [],
   "source": [
    "X=df_user[feature_list].values"
   ]
  },
  {
   "cell_type": "code",
   "execution_count": 590,
   "metadata": {},
   "outputs": [
    {
     "data": {
      "text/plain": [
       "(11756, 11)"
      ]
     },
     "execution_count": 590,
     "metadata": {},
     "output_type": "execute_result"
    }
   ],
   "source": [
    "X.shape    #training matix"
   ]
  },
  {
   "cell_type": "code",
   "execution_count": 586,
   "metadata": {},
   "outputs": [],
   "source": [
    "Y=df_user['sign_up'].values\n"
   ]
  },
  {
   "cell_type": "markdown",
   "metadata": {},
   "source": [
    "## 4. train and validate a RF model"
   ]
  },
  {
   "cell_type": "code",
   "execution_count": 591,
   "metadata": {},
   "outputs": [],
   "source": [
    "from sklearn.linear_model import LogisticRegression\n",
    "from sklearn.cross_validation import train_test_split\n",
    "from sklearn import metrics"
   ]
  },
  {
   "cell_type": "markdown",
   "metadata": {},
   "source": [
    "### Here I particularly used stratify to split the training and testing samples due to the high imbalance of original dataset"
   ]
  },
  {
   "cell_type": "code",
   "execution_count": 501,
   "metadata": {},
   "outputs": [],
   "source": [
    "# now preprocessing categorical features\n",
    "from sklearn import preprocessing\n",
    "def encode_category(array):\n",
    "    if array.dtype=='object':\n",
    "        return preprocessing.LabelEncoder().fit_transform(array)\n",
    "    else:\n",
    "        return array"
   ]
  },
  {
   "cell_type": "code",
   "execution_count": 601,
   "metadata": {},
   "outputs": [],
   "source": [
    "df_user_encode=df_user.apply(encode_category)"
   ]
  },
  {
   "cell_type": "code",
   "execution_count": 602,
   "metadata": {},
   "outputs": [
    {
     "data": {
      "text/html": [
       "<div>\n",
       "<style scoped>\n",
       "    .dataframe tbody tr th:only-of-type {\n",
       "        vertical-align: middle;\n",
       "    }\n",
       "\n",
       "    .dataframe tbody tr th {\n",
       "        vertical-align: top;\n",
       "    }\n",
       "\n",
       "    .dataframe thead th {\n",
       "        text-align: right;\n",
       "    }\n",
       "</style>\n",
       "<table border=\"1\" class=\"dataframe\">\n",
       "  <thead>\n",
       "    <tr style=\"text-align: right;\">\n",
       "      <th></th>\n",
       "      <th>distinct_id</th>\n",
       "      <th>visit_times</th>\n",
       "      <th>no_events</th>\n",
       "      <th>os</th>\n",
       "      <th>height</th>\n",
       "      <th>width</th>\n",
       "      <th>utm_medium</th>\n",
       "      <th>no_button_clicks</th>\n",
       "      <th>longest_page_staytime</th>\n",
       "      <th>average_staytime</th>\n",
       "      <th>new_browser</th>\n",
       "      <th>new_model</th>\n",
       "      <th>sign_up</th>\n",
       "    </tr>\n",
       "  </thead>\n",
       "  <tbody>\n",
       "    <tr>\n",
       "      <th>0</th>\n",
       "      <td>8021</td>\n",
       "      <td>9</td>\n",
       "      <td>115</td>\n",
       "      <td>3</td>\n",
       "      <td>900.0</td>\n",
       "      <td>1440.0</td>\n",
       "      <td>1</td>\n",
       "      <td>1</td>\n",
       "      <td>8299.552</td>\n",
       "      <td>779.771167</td>\n",
       "      <td>6</td>\n",
       "      <td>3</td>\n",
       "      <td>0</td>\n",
       "    </tr>\n",
       "    <tr>\n",
       "      <th>1</th>\n",
       "      <td>7850</td>\n",
       "      <td>8</td>\n",
       "      <td>37</td>\n",
       "      <td>3</td>\n",
       "      <td>900.0</td>\n",
       "      <td>1440.0</td>\n",
       "      <td>5</td>\n",
       "      <td>0</td>\n",
       "      <td>43.352</td>\n",
       "      <td>9.952667</td>\n",
       "      <td>6</td>\n",
       "      <td>3</td>\n",
       "      <td>0</td>\n",
       "    </tr>\n",
       "    <tr>\n",
       "      <th>2</th>\n",
       "      <td>5458</td>\n",
       "      <td>8</td>\n",
       "      <td>20</td>\n",
       "      <td>5</td>\n",
       "      <td>1080.0</td>\n",
       "      <td>1920.0</td>\n",
       "      <td>5</td>\n",
       "      <td>0</td>\n",
       "      <td>39079.093</td>\n",
       "      <td>18201.566286</td>\n",
       "      <td>0</td>\n",
       "      <td>5</td>\n",
       "      <td>0</td>\n",
       "    </tr>\n",
       "    <tr>\n",
       "      <th>3</th>\n",
       "      <td>1147</td>\n",
       "      <td>8</td>\n",
       "      <td>205</td>\n",
       "      <td>5</td>\n",
       "      <td>1080.0</td>\n",
       "      <td>1920.0</td>\n",
       "      <td>5</td>\n",
       "      <td>2</td>\n",
       "      <td>32800.451</td>\n",
       "      <td>1250.595525</td>\n",
       "      <td>0</td>\n",
       "      <td>5</td>\n",
       "      <td>0</td>\n",
       "    </tr>\n",
       "    <tr>\n",
       "      <th>4</th>\n",
       "      <td>3472</td>\n",
       "      <td>8</td>\n",
       "      <td>72</td>\n",
       "      <td>3</td>\n",
       "      <td>600.0</td>\n",
       "      <td>800.0</td>\n",
       "      <td>5</td>\n",
       "      <td>0</td>\n",
       "      <td>70257.620</td>\n",
       "      <td>7829.317650</td>\n",
       "      <td>0</td>\n",
       "      <td>3</td>\n",
       "      <td>0</td>\n",
       "    </tr>\n",
       "  </tbody>\n",
       "</table>\n",
       "</div>"
      ],
      "text/plain": [
       "   distinct_id  visit_times  no_events  os  height   width  utm_medium  \\\n",
       "0         8021            9        115   3   900.0  1440.0           1   \n",
       "1         7850            8         37   3   900.0  1440.0           5   \n",
       "2         5458            8         20   5  1080.0  1920.0           5   \n",
       "3         1147            8        205   5  1080.0  1920.0           5   \n",
       "4         3472            8         72   3   600.0   800.0           5   \n",
       "\n",
       "   no_button_clicks  longest_page_staytime  average_staytime  new_browser  \\\n",
       "0                 1               8299.552        779.771167            6   \n",
       "1                 0                 43.352          9.952667            6   \n",
       "2                 0              39079.093      18201.566286            0   \n",
       "3                 2              32800.451       1250.595525            0   \n",
       "4                 0              70257.620       7829.317650            0   \n",
       "\n",
       "   new_model  sign_up  \n",
       "0          3        0  \n",
       "1          3        0  \n",
       "2          5        0  \n",
       "3          5        0  \n",
       "4          3        0  "
      ]
     },
     "execution_count": 602,
     "metadata": {},
     "output_type": "execute_result"
    }
   ],
   "source": [
    "df_user_encode.head()"
   ]
  },
  {
   "cell_type": "code",
   "execution_count": 603,
   "metadata": {},
   "outputs": [],
   "source": [
    "X=df_user_encode[feature_list].values\n",
    "\n",
    "Y=df_user['sign_up'].values"
   ]
  },
  {
   "cell_type": "code",
   "execution_count": 604,
   "metadata": {},
   "outputs": [],
   "source": [
    "x_train, x_test, y_train, y_test = train_test_split(X, Y,\n",
    "                                                    test_size=0.33,\n",
    "                                                    random_state=0,\n",
    "                                                    stratify=Y)"
   ]
  },
  {
   "cell_type": "code",
   "execution_count": 605,
   "metadata": {},
   "outputs": [
    {
     "data": {
      "text/plain": [
       "RandomForestClassifier(bootstrap=True, class_weight=None, criterion='gini',\n",
       "            max_depth=None, max_features='auto', max_leaf_nodes=None,\n",
       "            min_impurity_decrease=0.0, min_impurity_split=None,\n",
       "            min_samples_leaf=1, min_samples_split=2,\n",
       "            min_weight_fraction_leaf=0.0, n_estimators=10, n_jobs=1,\n",
       "            oob_score=False, random_state=None, verbose=0,\n",
       "            warm_start=False)"
      ]
     },
     "execution_count": 605,
     "metadata": {},
     "output_type": "execute_result"
    }
   ],
   "source": [
    "from sklearn.ensemble import RandomForestClassifier\n",
    "clf_RF=RandomForestClassifier()\n",
    "\n",
    "clf_RF.fit(x_train,y_train)"
   ]
  },
  {
   "cell_type": "code",
   "execution_count": 611,
   "metadata": {},
   "outputs": [
    {
     "data": {
      "text/plain": [
       "0.9938144329896907"
      ]
     },
     "execution_count": 611,
     "metadata": {},
     "output_type": "execute_result"
    }
   ],
   "source": [
    "metrics.accuracy_score(y_test,clf_RF.predict(x_test))"
   ]
  },
  {
   "cell_type": "code",
   "execution_count": 612,
   "metadata": {},
   "outputs": [
    {
     "name": "stdout",
     "output_type": "stream",
     "text": [
      "             precision    recall  f1-score   support\n",
      "\n",
      "          0       1.00      1.00      1.00      3715\n",
      "          1       0.92      0.93      0.93       165\n",
      "\n",
      "avg / total       0.99      0.99      0.99      3880\n",
      "\n"
     ]
    }
   ],
   "source": [
    "from sklearn.metrics import classification_report\n",
    "print(classification_report(y_test,clf_RF.predict(x_test)))"
   ]
  },
  {
   "cell_type": "code",
   "execution_count": 613,
   "metadata": {},
   "outputs": [],
   "source": [
    "def plot_roc_curve(y_train, y_train_pred, y_test, y_test_pred):\n",
    "    roc_auc_train = roc_auc_score(y_train, y_train_pred)\n",
    "    fpr_train, tpr_train, _ = roc_curve(y_train, y_train_pred)\n",
    "\n",
    "    roc_auc_test = roc_auc_score(y_test, y_test_pred)\n",
    "    fpr_test, tpr_test, _ = roc_curve(y_test, y_test_pred)\n",
    "    plt.figure()\n",
    "    lw = 2\n",
    "    plt.plot(fpr_train, tpr_train, color='green',\n",
    "             lw=lw, label='ROC Train (AUC = %0.4f)' % roc_auc_train)\n",
    "    plt.plot(fpr_test, tpr_test, color='darkorange',\n",
    "             lw=lw, label='ROC Test (AUC = %0.4f)' % roc_auc_test)\n",
    "    plt.plot([0, 1], [0, 1], color='navy', lw=lw, linestyle='--')\n",
    "    plt.xlim([0.0, 1.0])\n",
    "    plt.ylim([0.0, 1.05])\n",
    "    plt.xlabel('False Positive Rate')\n",
    "    plt.ylabel('True Positive Rate')\n",
    "    plt.title('Receiver operating characteristic example')\n",
    "    plt.legend(loc=\"lower right\")\n",
    "    plt.show()"
   ]
  },
  {
   "cell_type": "code",
   "execution_count": 614,
   "metadata": {},
   "outputs": [],
   "source": [
    "y_train_pred=clf_RF.predict_proba(x_train)[:,1]\n",
    "y_test_pred=clf_RF.predict_proba(x_test)[:,1]"
   ]
  },
  {
   "cell_type": "code",
   "execution_count": 617,
   "metadata": {},
   "outputs": [
    {
     "data": {
      "image/png": "[encoded data removed]",
      "text/plain": [
       "<Figure size 432x288 with 1 Axes>"
      ]
     },
     "metadata": {},
     "output_type": "display_data"
    }
   ],
   "source": [
    "from sklearn.metrics import roc_curve, auc\n",
    "from sklearn.metrics import make_scorer, roc_auc_score, accuracy_score\n",
    "plot_roc_curve(y_train, y_train_pred, y_test, y_test_pred)"
   ]
  },
  {
   "cell_type": "markdown",
   "metadata": {},
   "source": [
    "### 5. look at feature importance"
   ]
  },
  {
   "cell_type": "code",
   "execution_count": 619,
   "metadata": {},
   "outputs": [
    {
     "name": "stdout",
     "output_type": "stream",
     "text": [
      "visit_times = 0.014513605786055284\n",
      "no_events = 0.22510588432339218\n",
      "new_model = 0.0040692441323706505\n",
      "new_browser = 0.006100603286634709\n",
      "os = 0.0030589663233865673\n",
      "height = 0.01198471643033647\n",
      "width = 0.013856654509749242\n",
      "utm_medium = 0.006342756722952878\n",
      "no_button_clicks = 0.6345840733177807\n",
      "longest_page_staytime = 0.045178169411179456\n",
      "average_staytime = 0.035205325756161844\n"
     ]
    }
   ],
   "source": [
    "for name, imp in zip(df_user[feature_list].columns.values,clf_RF.feature_importances_):\n",
    "    print(name,\"=\", imp)"
   ]
  },
  {
   "cell_type": "code",
   "execution_count": 621,
   "metadata": {},
   "outputs": [],
   "source": [
    "importances=clf_RF.feature_importances_\n",
    "#sort feature importances in descending order\n",
    "indices=np.argsort(importances)[::-1]\n",
    "\n",
    "# rearrange featu renames so they match sorted feature importances\n",
    "names=[df_user[feature_list].columns.values[i] for i in indices]"
   ]
  },
  {
   "cell_type": "code",
   "execution_count": 622,
   "metadata": {},
   "outputs": [
    {
     "data": {
      "image/png": "[encoded data removed]",
      "text/plain": [
       "<Figure size 1152x576 with 1 Axes>"
      ]
     },
     "metadata": {},
     "output_type": "display_data"
    }
   ],
   "source": [
    "import matplotlib.pyplot as plt\n",
    "# now plot the importance\n",
    "plt.figure(figsize=(16,8))\n",
    "plt.bar(range(X.shape[1]), importances[indices])\n",
    "plt.xticks(range(X.shape[1]),names,rotation=20,fontsize=10)\n",
    "\n",
    "plt.title(\"Feature Importance\")\n",
    "plt.show()"
   ]
  },
  {
   "cell_type": "markdown",
   "metadata": {},
   "source": [
    "### some conclusion:\n",
    "It looks like how many times users clicked , how many events in total, stay time are three major features in predicting whether sign up or not. My suggestion to the website is to induce more interactive functions in the page especially the front page where I found previously to have less engagement with the users. "
   ]
  },
  {
   "cell_type": "markdown",
   "metadata": {},
   "source": [
    "## Future work\n",
    "\n",
    "* could it be resolution makes bounce rate bad for certain specific groups?\n",
    "* acquisition reports: discover which sources send you the highest quality traffic and conversions, marketing campaign. \n",
    "* look at bounce rate for each campaign medium/source because bounce rate is actually a better way to look at the success of each medium/source\n",
    "* bahavior :total page view: how frequently each page on your site was viewed, categorized b  the URL of your website can alse do the same for the title\n",
    "* average time on page and bounce rate tells engagement to find high/low performance pages pie chart view should be good\n",
    "* can also track exit page\n",
    "\n",
    "* which campaign drove the highest quality traffic to your site\n",
    "\n"
   ]
  },
  {
   "cell_type": "code",
   "execution_count": null,
   "metadata": {},
   "outputs": [],
   "source": []
  },
  {
   "cell_type": "code",
   "execution_count": null,
   "metadata": {},
   "outputs": [],
   "source": []
  }
 ],
 "metadata": {
  "kernelspec": {
   "display_name": "Python 3",
   "language": "python",
   "name": "python3"
  },
  "language_info": {
   "codemirror_mode": {
    "name": "ipython",
    "version": 3
   },
   "file_extension": ".py",
   "mimetype": "text/x-python",
   "name": "python",
   "nbconvert_exporter": "python",
   "pygments_lexer": "ipython3",
   "version": "3.6.5"
  }
 },
 "nbformat": 4,
 "nbformat_minor": 2
}
